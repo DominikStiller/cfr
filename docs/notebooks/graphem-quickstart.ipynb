{
 "cells": [
  {
   "cell_type": "markdown",
   "metadata": {},
   "source": [
    "# GraphEM: basic workflow"
   ]
  },
  {
   "cell_type": "code",
   "execution_count": 1,
   "metadata": {},
   "outputs": [],
   "source": [
    "%load_ext autoreload\n",
    "%autoreload 2\n",
    "\n",
    "import cfr\n",
    "import numpy as np\n",
    "import matplotlib.pyplot as  plt"
   ]
  },
  {
   "cell_type": "code",
   "execution_count": 2,
   "metadata": {},
   "outputs": [
    {
     "name": "stdout",
     "output_type": "stream",
     "text": [
      "Original Temp:\n",
      " [[0.3745 0.0206 0.6119 0.6075 0.122 ]\n",
      " [0.9507 0.9699 0.1395 0.1705 0.4952]\n",
      " [0.732  0.8324 0.2921 0.0651 0.0344]\n",
      " [0.5987 0.2123 0.3664 0.9489 0.9093]\n",
      " [0.156  0.1818 0.4561 0.9656 0.2588]\n",
      " [0.156  0.1834 0.7852 0.8084 0.6625]\n",
      " [0.0581 0.3042 0.1997 0.3046 0.3117]\n",
      " [0.8662 0.5248 0.5142 0.0977 0.5201]\n",
      " [0.6011 0.4319 0.5924 0.6842 0.5467]\n",
      " [0.7081 0.2912 0.0465 0.4402 0.1849]]\n"
     ]
    }
   ],
   "source": [
    "np.set_printoptions(precision = 4) # set print forma\n",
    "#Generate data\n",
    "np.random.seed(42)\n",
    "# Temperature\n",
    "temp = np.random.rand(5,10).T   # 10 years, 5 grid points\n",
    "target = np.copy(temp)\n",
    "print(\"Original Temp:\\n\",temp)\n",
    "\n",
    "temp[4:10,:] = np.nan  # Insert missing values after instrumental period"
   ]
  },
  {
   "cell_type": "code",
   "execution_count": 3,
   "metadata": {},
   "outputs": [
    {
     "data": {
      "image/png": "[encoded data removed]",
      "text/plain": [
       "<Figure size 432x288 with 1 Axes>"
      ]
     },
     "metadata": {
      "needs_background": "light"
     },
     "output_type": "display_data"
    }
   ],
   "source": [
    "plt.imshow(temp)\n",
    "plt.show()"
   ]
  },
  {
   "cell_type": "code",
   "execution_count": 4,
   "metadata": {},
   "outputs": [
    {
     "name": "stdout",
     "output_type": "stream",
     "text": [
      "calib\n",
      " range(0, 4)\n"
     ]
    }
   ],
   "source": [
    "# Proxies\n",
    "proxy = np.random.rand(3,10).T # 10 years, 3 proxies\n",
    "\n",
    "# calibration period\n",
    "calib = range(0,4)\n",
    "print(\"calib\\n\",calib)\n",
    "G = cfr.graphem.GraphEM()"
   ]
  },
  {
   "cell_type": "code",
   "execution_count": 5,
   "metadata": {},
   "outputs": [
    {
     "data": {
      "image/png": "[encoded data removed]",
      "text/plain": [
       "<Figure size 432x288 with 1 Axes>"
      ]
     },
     "metadata": {
      "needs_background": "light"
     },
     "output_type": "display_data"
    }
   ],
   "source": [
    "plt.imshow(proxy)\n",
    "plt.show()"
   ]
  },
  {
   "cell_type": "code",
   "execution_count": 6,
   "metadata": {},
   "outputs": [
    {
     "name": "stdout",
     "output_type": "stream",
     "text": [
      "Applying the graphical lasso\n",
      "Estimating graph using greedy search\n",
      "Iter    TT      TP      PP\n",
      "\n",
      "001  10.000   0.000   0.000\n",
      "002  10.000  13.333   0.000\n",
      "003  10.000  13.333   0.000\n",
      "004  10.000  13.333   0.000\n",
      "005  10.000  13.333   0.000\n",
      "006  10.000  13.333   0.000\n",
      "007  10.000  13.333   0.000\n",
      "008  10.000  13.333   0.000\n",
      "009  10.000  13.333   0.000\n",
      "010  10.000  13.333   0.000\n",
      "011  10.000  13.333   0.000\n",
      "012  10.000  13.333   0.000\n",
      "013  10.000  13.333   0.000\n",
      "014  10.000  13.333  33.333\n",
      "Running GraphEM:\n",
      "\n",
      "Iter     dXmis     rdXmis\n",
      "\n",
      "001     0.0544     0.1120\n",
      "002     0.0742     0.1516\n",
      "003     0.0347     0.0694\n",
      "004     0.0175     0.0345\n",
      "005     0.0089     0.0173\n",
      "006     0.0045     0.0087\n",
      "007     0.0023     0.0045\n"
     ]
    }
   ],
   "source": [
    "#Fit test\n",
    "G.fit(temp,proxy,calib,sp_TT=3,sp_TP=3,sp_PP=3,graph_method = 'glasso')\n",
    "temp_r = G.temp_r"
   ]
  },
  {
   "cell_type": "code",
   "execution_count": 7,
   "metadata": {},
   "outputs": [
    {
     "name": "stdout",
     "output_type": "stream",
     "text": [
      "Computing verification statistics\n",
      "\n",
      "Mean MSE = 0.0832, Mean RE = -0.0908, Mean CE = -1.0142, Mean R2 = nan\n",
      "temp:\n",
      " [[0.3745 0.0206 0.6119 0.6075 0.122 ]\n",
      " [0.9507 0.9699 0.1395 0.1705 0.4952]\n",
      " [0.732  0.8324 0.2921 0.0651 0.0344]\n",
      " [0.5987 0.2123 0.3664 0.9489 0.9093]\n",
      " [   nan    nan    nan    nan    nan]\n",
      " [   nan    nan    nan    nan    nan]\n",
      " [   nan    nan    nan    nan    nan]\n",
      " [   nan    nan    nan    nan    nan]\n",
      " [   nan    nan    nan    nan    nan]\n",
      " [   nan    nan    nan    nan    nan]]\n",
      "temp_r [[0.3745 0.0206 0.6119 0.6075 0.122 ]\n",
      " [0.9507 0.9699 0.1395 0.1705 0.4952]\n",
      " [0.732  0.8324 0.2921 0.0651 0.0344]\n",
      " [0.5987 0.2123 0.3664 0.9489 0.9093]\n",
      " [0.6632 0.2401 0.353  0.6908 0.3905]\n",
      " [0.6631 0.217  0.353  0.7117 0.3905]\n",
      " [0.663  0.173  0.3531 0.7514 0.3905]\n",
      " [0.6652 0.8992 0.3516 0.0956 0.3905]\n",
      " [0.6643 0.603  0.3522 0.3631 0.3905]\n",
      " [0.6651 0.8556 0.3517 0.1349 0.3905]]\n",
      "proxy:\n",
      " [[0.9696 0.3887 0.7722]\n",
      " [0.7751 0.2713 0.1987]\n",
      " [0.9395 0.8287 0.0055]\n",
      " [0.8948 0.3568 0.8155]\n",
      " [0.5979 0.2809 0.7069]\n",
      " [0.9219 0.5427 0.729 ]\n",
      " [0.0885 0.1409 0.7713]\n",
      " [0.196  0.8022 0.074 ]\n",
      " [0.0452 0.0746 0.3585]\n",
      " [0.3253 0.9869 0.1159]]\n"
     ]
    },
    {
     "name": "stderr",
     "output_type": "stream",
     "text": [
      "/Users/julieneg/opt/miniconda3/envs/cfr-env/lib/python3.9/site-packages/numpy/lib/function_base.py:2853: RuntimeWarning: invalid value encountered in divide\n",
      "  c /= stddev[:, None]\n",
      "/Users/julieneg/opt/miniconda3/envs/cfr-env/lib/python3.9/site-packages/numpy/lib/function_base.py:2854: RuntimeWarning: invalid value encountered in divide\n",
      "  c /= stddev[None, :]\n"
     ]
    }
   ],
   "source": [
    "print(\"Computing verification statistics\\n\")\n",
    "V = cfr.graphem.solver.verif_stats(temp_r,target,calib)\n",
    "print(V)\n",
    "print(\"temp:\\n\",temp)\n",
    "print(\"temp_r\",temp_r)\n",
    "print(\"proxy:\\n\",proxy)"
   ]
  },
  {
   "cell_type": "code",
   "execution_count": 8,
   "metadata": {},
   "outputs": [
    {
     "data": {
      "image/png": "[encoded data removed]",
      "text/plain": [
       "<Figure size 432x288 with 1 Axes>"
      ]
     },
     "metadata": {
      "needs_background": "light"
     },
     "output_type": "display_data"
    },
    {
     "data": {
      "image/png": "[encoded data removed]",
      "text/plain": [
       "<Figure size 432x288 with 1 Axes>"
      ]
     },
     "metadata": {
      "needs_background": "light"
     },
     "output_type": "display_data"
    }
   ],
   "source": [
    "plt.imshow(temp)\n",
    "plt.show()\n",
    "plt.imshow(temp_r)\n",
    "plt.show()"
   ]
  },
  {
   "cell_type": "code",
   "execution_count": null,
   "metadata": {},
   "outputs": [],
   "source": []
  }
 ],
 "metadata": {
  "kernelspec": {
   "display_name": "cfr-env",
   "language": "python",
   "name": "cfr-env"
  },
  "language_info": {
   "codemirror_mode": {
    "name": "ipython",
    "version": 3
   },
   "file_extension": ".py",
   "mimetype": "text/x-python",
   "name": "python",
   "nbconvert_exporter": "python",
   "pygments_lexer": "ipython3",
   "version": "3.9.13"
  },
  "vscode": {
   "interpreter": {
    "hash": "2e514e160b8576b1c6cd081cd29236dd17134d32e525bc2cf07fbf1f59bb70d0"
   }
  }
 },
 "nbformat": 4,
 "nbformat_minor": 4
}
