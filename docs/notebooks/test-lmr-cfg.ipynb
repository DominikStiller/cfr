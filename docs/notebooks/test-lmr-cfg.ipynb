{
 "cells": [
  {
   "cell_type": "markdown",
   "metadata": {},
   "source": [
    "## Run the job based on the configurations in a YAML file"
   ]
  },
  {
   "cell_type": "code",
   "execution_count": 1,
   "metadata": {},
   "outputs": [
    {
     "name": "stdout",
     "output_type": "stream",
     "text": [
      "\u001b[1m\u001b[32m>>> job.configs loaded\u001b[0m\n",
      "{'annualize_proxydb_months': [12, 1, 2],\n",
      " 'annualize_proxydb_ptypes': ['coral'],\n",
      " 'assim_frac': 1,\n",
      " 'compress_params': {'least_significant_digit': 1, 'zlib': True},\n",
      " 'obs_anom_period': [1951, 1980],\n",
      " 'obs_lon_name': 'lon',\n",
      " 'obs_path': {'tas': './data/gistemp1200_ERSSTv4.nc'},\n",
      " 'obs_rename_dict': {'pr': 'precip', 'tas': 'tempanomaly'},\n",
      " 'output_full_ens': False,\n",
      " 'pids': ['Ocn_065',\n",
      "          'Ocn_075',\n",
      "          'Ocn_096',\n",
      "          'Ocn_101',\n",
      "          'Ocn_070',\n",
      "          'Ocn_103',\n",
      "          'Ocn_077',\n",
      "          'Ocn_122',\n",
      "          'Ocn_138',\n",
      "          'Ocn_095',\n",
      "          'Ocn_104',\n",
      "          'Ocn_125',\n",
      "          'Ocn_087'],\n",
      " 'prior_annualize_months': [12, 1, 2],\n",
      " 'prior_anom_period': [1951, 1980],\n",
      " 'prior_lon_name': 'lon',\n",
      " 'prior_path': {'tas': './data/tas_sfc_Amon_iCESM_past1000historical_085001-200512.nc'},\n",
      " 'prior_regrid_nlat': 42,\n",
      " 'prior_regrid_nlon': 63,\n",
      " 'proxydb_path': './data/pages2k_updated_Palmyra_dataset.pkl',\n",
      " 'psm_calib_period': [1850, 2015],\n",
      " 'ptype_psm_dict': {'coral.SrCa': 'Linear',\n",
      "                    'coral.calc': 'Linear',\n",
      "                    'coral.d18O': 'Linear'},\n",
      " 'ptype_season_dict': {'coral.SrCa': [12, 1, 2],\n",
      "                       'coral.calc': [12, 1, 2],\n",
      "                       'coral.d18O': [12, 1, 2]},\n",
      " 'recon_loc_rad': 25000,\n",
      " 'recon_period': [0, 2000],\n",
      " 'recon_seeds': [0,\n",
      "                 1,\n",
      "                 2,\n",
      "                 3,\n",
      "                 4,\n",
      "                 5,\n",
      "                 6,\n",
      "                 7,\n",
      "                 8,\n",
      "                 9,\n",
      "                 10,\n",
      "                 11,\n",
      "                 12,\n",
      "                 13,\n",
      "                 14,\n",
      "                 15,\n",
      "                 16,\n",
      "                 17,\n",
      "                 18,\n",
      "                 19,\n",
      "                 20,\n",
      "                 21,\n",
      "                 22,\n",
      "                 23,\n",
      "                 24,\n",
      "                 25,\n",
      "                 26,\n",
      "                 27,\n",
      "                 28,\n",
      "                 29,\n",
      "                 30,\n",
      "                 31,\n",
      "                 32,\n",
      "                 33,\n",
      "                 34,\n",
      "                 35,\n",
      "                 36,\n",
      "                 37,\n",
      "                 38,\n",
      "                 39,\n",
      "                 40,\n",
      "                 41,\n",
      "                 42,\n",
      "                 43,\n",
      "                 44,\n",
      "                 45,\n",
      "                 46,\n",
      "                 47,\n",
      "                 48,\n",
      "                 49],\n",
      " 'recon_timescale': 1,\n",
      " 'save_dirpath': './data/exp_Zhu22_Corals_CCSM4_updated_Palmyra'}\n",
      "\u001b[1m\u001b[36m>>> job.configs[\"proxydb_path\"] = ./data/pages2k_updated_Palmyra_dataset.pkl\u001b[0m\n",
      "\u001b[1m\u001b[32m>>> 692 records loaded\u001b[0m\n",
      "\u001b[1m\u001b[32m>>> job.proxydb created\u001b[0m\n",
      "\u001b[1m\u001b[32m>>> 13 records remaining\u001b[0m\n",
      "\u001b[1m\u001b[32m>>> job.proxydb updated\u001b[0m\n"
     ]
    },
    {
     "name": "stderr",
     "output_type": "stream",
     "text": [
      "Annualizing ProxyRecord: 100%|██████████| 13/13 [00:01<00:00,  7.64it/s]\n"
     ]
    },
    {
     "name": "stdout",
     "output_type": "stream",
     "text": [
      "\u001b[1m\u001b[36m>>> job.configs[\"prior_path\"] = {'tas': './data/tas_sfc_Amon_iCESM_past1000historical_085001-200512.nc'}\u001b[0m\n",
      "\u001b[1m\u001b[36m>>> job.configs[\"prior_anom_period\"] = [1951, 1980]\u001b[0m\n",
      "\u001b[1m\u001b[32m>>> prior variables ['tas'] loaded\u001b[0m\n",
      "\u001b[1m\u001b[32m>>> job.prior created\u001b[0m\n",
      "\u001b[1m\u001b[36m>>> job.configs[\"obs_path\"] = {'tas': './data/gistemp1200_ERSSTv4.nc'}\u001b[0m\n",
      "\u001b[1m\u001b[36m>>> job.configs[\"obs_rename_dict\"] = {'pr': 'precip', 'tas': 'tempanomaly'}\u001b[0m\n",
      "\u001b[1m\u001b[36m>>> job.configs[\"obs_anom_period\"] = [1951, 1980]\u001b[0m\n",
      "\u001b[1m\u001b[32m>>> obs variables ['tas'] loaded\u001b[0m\n",
      "\u001b[1m\u001b[32m>>> job.obs created\u001b[0m\n",
      "\u001b[1m\u001b[36m>>> job.configs[\"ptype_psm_dict\"] = {'coral.SrCa': 'Linear', 'coral.calc': 'Linear', 'coral.d18O': 'Linear'}\u001b[0m\n",
      "\u001b[1m\u001b[36m>>> job.configs[\"ptype_season_dict\"] = {'coral.SrCa': [12, 1, 2], 'coral.calc': [12, 1, 2], 'coral.d18O': [12, 1, 2]}\u001b[0m\n"
     ]
    },
    {
     "name": "stderr",
     "output_type": "stream",
     "text": [
      "Calibrating the PSMs::  92%|█████████▏| 12/13 [00:00<00:00, 14.13it/s]"
     ]
    },
    {
     "name": "stdout",
     "output_type": "stream",
     "text": [
      "The number of overlapped data points is 0 < 25. Skipping ...\n"
     ]
    },
    {
     "name": "stderr",
     "output_type": "stream",
     "text": [
      "Calibrating the PSMs:: 100%|██████████| 13/13 [00:00<00:00, 13.39it/s]\n"
     ]
    },
    {
     "name": "stdout",
     "output_type": "stream",
     "text": [
      "\u001b[1m\u001b[33m>>> The PSM for Ocn_138 failed to calibrate.\u001b[0m\n",
      "\u001b[1m\u001b[32m>>> 12 records tagged \"calibrated\" with ProxyRecord.psm created\u001b[0m\n"
     ]
    },
    {
     "name": "stderr",
     "output_type": "stream",
     "text": [
      "Forwarding the PSMs:: 100%|██████████| 12/12 [00:03<00:00,  3.15it/s]\n"
     ]
    },
    {
     "name": "stdout",
     "output_type": "stream",
     "text": [
      "\u001b[1m\u001b[32m>>> ProxyRecord.pseudo created for 12 records\u001b[0m\n",
      "\u001b[1m\u001b[36m>>> job.configs[\"prior_annualize_months\"] = [12, 1, 2]\u001b[0m\n",
      "\u001b[1m\u001b[36m>>> Processing tas ...\u001b[0m\n",
      "\u001b[1m\u001b[32m>>> job.prior updated\u001b[0m\n",
      "\u001b[1m\u001b[36m>>> job.configs[\"prior_regrid_nlat\"] = 42\u001b[0m\n",
      "\u001b[1m\u001b[36m>>> job.configs[\"prior_regrid_nlon\"] = 63\u001b[0m\n",
      "\u001b[1m\u001b[36m>>> Processing tas ...\u001b[0m\n",
      "\u001b[1m\u001b[36m>>> job.configs[\"recon_period\"] = [0, 2000]\u001b[0m\n",
      "\u001b[1m\u001b[36m>>> job.configs[\"recon_loc_rad\"] = 25000\u001b[0m\n",
      "\u001b[1m\u001b[36m>>> job.configs[\"recon_timescale\"] = 1\u001b[0m\n",
      "\u001b[1m\u001b[36m>>> job.configs[\"recon_seeds\"] = [0, 1, 2, 3, 4, 5, 6, 7, 8, 9, 10, 11, 12, 13, 14, 15, 16, 17, 18, 19, 20, 21, 22, 23, 24, 25, 26, 27, 28, 29, 30, 31, 32, 33, 34, 35, 36, 37, 38, 39, 40, 41, 42, 43, 44, 45, 46, 47, 48, 49]\u001b[0m\n",
      "\u001b[1m\u001b[36m>>> job.configs[\"assim_frac\"] = 1\u001b[0m\n",
      "\u001b[1m\u001b[36m>>> job.configs[\"compress_params\"] = {'zlib': True, 'least_significant_digit': 1}\u001b[0m\n",
      "\u001b[1m\u001b[36m>>> job.configs[\"output_full_ens\"] = False\u001b[0m\n",
      "\u001b[1m\u001b[36m>>> seed: 0 | max: 49\u001b[0m\n"
     ]
    },
    {
     "name": "stderr",
     "output_type": "stream",
     "text": [
      "KF updating: 100%|██████████| 2001/2001 [00:25<00:00, 78.81it/s] \n"
     ]
    },
    {
     "name": "stdout",
     "output_type": "stream",
     "text": [
      "\u001b[1m\u001b[32m>>> Reconstructed fields saved to: ./data/exp_Zhu22_Corals_CCSM4_updated_Palmyra/job_r00_recon.nc\u001b[0m\n",
      "\u001b[1m\u001b[36m>>> seed: 1 | max: 49\u001b[0m\n"
     ]
    },
    {
     "name": "stderr",
     "output_type": "stream",
     "text": [
      "KF updating: 100%|██████████| 2001/2001 [00:26<00:00, 76.95it/s] \n"
     ]
    },
    {
     "name": "stdout",
     "output_type": "stream",
     "text": [
      "\u001b[1m\u001b[32m>>> Reconstructed fields saved to: ./data/exp_Zhu22_Corals_CCSM4_updated_Palmyra/job_r01_recon.nc\u001b[0m\n",
      "\u001b[1m\u001b[36m>>> seed: 2 | max: 49\u001b[0m\n"
     ]
    },
    {
     "name": "stderr",
     "output_type": "stream",
     "text": [
      "KF updating: 100%|██████████| 2001/2001 [00:27<00:00, 72.84it/s] \n"
     ]
    },
    {
     "name": "stdout",
     "output_type": "stream",
     "text": [
      "\u001b[1m\u001b[32m>>> Reconstructed fields saved to: ./data/exp_Zhu22_Corals_CCSM4_updated_Palmyra/job_r02_recon.nc\u001b[0m\n",
      "\u001b[1m\u001b[36m>>> seed: 3 | max: 49\u001b[0m\n"
     ]
    },
    {
     "name": "stderr",
     "output_type": "stream",
     "text": [
      "KF updating: 100%|██████████| 2001/2001 [00:24<00:00, 81.55it/s] \n"
     ]
    },
    {
     "name": "stdout",
     "output_type": "stream",
     "text": [
      "\u001b[1m\u001b[32m>>> Reconstructed fields saved to: ./data/exp_Zhu22_Corals_CCSM4_updated_Palmyra/job_r03_recon.nc\u001b[0m\n",
      "\u001b[1m\u001b[36m>>> seed: 4 | max: 49\u001b[0m\n"
     ]
    },
    {
     "name": "stderr",
     "output_type": "stream",
     "text": [
      "KF updating: 100%|██████████| 2001/2001 [00:23<00:00, 85.69it/s] \n"
     ]
    },
    {
     "name": "stdout",
     "output_type": "stream",
     "text": [
      "\u001b[1m\u001b[32m>>> Reconstructed fields saved to: ./data/exp_Zhu22_Corals_CCSM4_updated_Palmyra/job_r04_recon.nc\u001b[0m\n",
      "\u001b[1m\u001b[36m>>> seed: 5 | max: 49\u001b[0m\n"
     ]
    },
    {
     "name": "stderr",
     "output_type": "stream",
     "text": [
      "KF updating: 100%|██████████| 2001/2001 [00:26<00:00, 75.27it/s] \n"
     ]
    },
    {
     "name": "stdout",
     "output_type": "stream",
     "text": [
      "\u001b[1m\u001b[32m>>> Reconstructed fields saved to: ./data/exp_Zhu22_Corals_CCSM4_updated_Palmyra/job_r05_recon.nc\u001b[0m\n",
      "\u001b[1m\u001b[36m>>> seed: 6 | max: 49\u001b[0m\n"
     ]
    },
    {
     "name": "stderr",
     "output_type": "stream",
     "text": [
      "KF updating: 100%|██████████| 2001/2001 [00:29<00:00, 67.93it/s] \n"
     ]
    },
    {
     "name": "stdout",
     "output_type": "stream",
     "text": [
      "\u001b[1m\u001b[32m>>> Reconstructed fields saved to: ./data/exp_Zhu22_Corals_CCSM4_updated_Palmyra/job_r06_recon.nc\u001b[0m\n",
      "\u001b[1m\u001b[36m>>> seed: 7 | max: 49\u001b[0m\n"
     ]
    },
    {
     "name": "stderr",
     "output_type": "stream",
     "text": [
      "KF updating: 100%|██████████| 2001/2001 [00:25<00:00, 78.90it/s] \n"
     ]
    },
    {
     "name": "stdout",
     "output_type": "stream",
     "text": [
      "\u001b[1m\u001b[32m>>> Reconstructed fields saved to: ./data/exp_Zhu22_Corals_CCSM4_updated_Palmyra/job_r07_recon.nc\u001b[0m\n",
      "\u001b[1m\u001b[36m>>> seed: 8 | max: 49\u001b[0m\n"
     ]
    },
    {
     "name": "stderr",
     "output_type": "stream",
     "text": [
      "KF updating: 100%|██████████| 2001/2001 [00:24<00:00, 81.39it/s] \n"
     ]
    },
    {
     "name": "stdout",
     "output_type": "stream",
     "text": [
      "\u001b[1m\u001b[32m>>> Reconstructed fields saved to: ./data/exp_Zhu22_Corals_CCSM4_updated_Palmyra/job_r08_recon.nc\u001b[0m\n",
      "\u001b[1m\u001b[36m>>> seed: 9 | max: 49\u001b[0m\n"
     ]
    },
    {
     "name": "stderr",
     "output_type": "stream",
     "text": [
      "KF updating: 100%|██████████| 2001/2001 [00:24<00:00, 82.76it/s] \n"
     ]
    },
    {
     "name": "stdout",
     "output_type": "stream",
     "text": [
      "\u001b[1m\u001b[32m>>> Reconstructed fields saved to: ./data/exp_Zhu22_Corals_CCSM4_updated_Palmyra/job_r09_recon.nc\u001b[0m\n",
      "\u001b[1m\u001b[36m>>> seed: 10 | max: 49\u001b[0m\n"
     ]
    },
    {
     "name": "stderr",
     "output_type": "stream",
     "text": [
      "KF updating: 100%|██████████| 2001/2001 [00:23<00:00, 84.17it/s] \n"
     ]
    },
    {
     "name": "stdout",
     "output_type": "stream",
     "text": [
      "\u001b[1m\u001b[32m>>> Reconstructed fields saved to: ./data/exp_Zhu22_Corals_CCSM4_updated_Palmyra/job_r10_recon.nc\u001b[0m\n",
      "\u001b[1m\u001b[36m>>> seed: 11 | max: 49\u001b[0m\n"
     ]
    },
    {
     "name": "stderr",
     "output_type": "stream",
     "text": [
      "KF updating: 100%|██████████| 2001/2001 [00:24<00:00, 81.64it/s] \n"
     ]
    },
    {
     "name": "stdout",
     "output_type": "stream",
     "text": [
      "\u001b[1m\u001b[32m>>> Reconstructed fields saved to: ./data/exp_Zhu22_Corals_CCSM4_updated_Palmyra/job_r11_recon.nc\u001b[0m\n",
      "\u001b[1m\u001b[36m>>> seed: 12 | max: 49\u001b[0m\n"
     ]
    },
    {
     "name": "stderr",
     "output_type": "stream",
     "text": [
      "KF updating: 100%|██████████| 2001/2001 [00:24<00:00, 81.26it/s] \n"
     ]
    },
    {
     "name": "stdout",
     "output_type": "stream",
     "text": [
      "\u001b[1m\u001b[32m>>> Reconstructed fields saved to: ./data/exp_Zhu22_Corals_CCSM4_updated_Palmyra/job_r12_recon.nc\u001b[0m\n",
      "\u001b[1m\u001b[36m>>> seed: 13 | max: 49\u001b[0m\n"
     ]
    },
    {
     "name": "stderr",
     "output_type": "stream",
     "text": [
      "KF updating: 100%|██████████| 2001/2001 [00:23<00:00, 84.34it/s] \n"
     ]
    },
    {
     "name": "stdout",
     "output_type": "stream",
     "text": [
      "\u001b[1m\u001b[32m>>> Reconstructed fields saved to: ./data/exp_Zhu22_Corals_CCSM4_updated_Palmyra/job_r13_recon.nc\u001b[0m\n",
      "\u001b[1m\u001b[36m>>> seed: 14 | max: 49\u001b[0m\n"
     ]
    },
    {
     "name": "stderr",
     "output_type": "stream",
     "text": [
      "KF updating: 100%|██████████| 2001/2001 [00:25<00:00, 78.47it/s] \n"
     ]
    },
    {
     "name": "stdout",
     "output_type": "stream",
     "text": [
      "\u001b[1m\u001b[32m>>> Reconstructed fields saved to: ./data/exp_Zhu22_Corals_CCSM4_updated_Palmyra/job_r14_recon.nc\u001b[0m\n",
      "\u001b[1m\u001b[36m>>> seed: 15 | max: 49\u001b[0m\n"
     ]
    },
    {
     "name": "stderr",
     "output_type": "stream",
     "text": [
      "KF updating: 100%|██████████| 2001/2001 [00:30<00:00, 65.07it/s] \n"
     ]
    },
    {
     "name": "stdout",
     "output_type": "stream",
     "text": [
      "\u001b[1m\u001b[32m>>> Reconstructed fields saved to: ./data/exp_Zhu22_Corals_CCSM4_updated_Palmyra/job_r15_recon.nc\u001b[0m\n",
      "\u001b[1m\u001b[36m>>> seed: 16 | max: 49\u001b[0m\n"
     ]
    },
    {
     "name": "stderr",
     "output_type": "stream",
     "text": [
      "KF updating: 100%|██████████| 2001/2001 [00:25<00:00, 78.41it/s] \n"
     ]
    }
   ],
   "source": [
    "import cfr\n",
    "\n",
    "job = cfr.ReconJob()\n",
    "# job.run_cfg('./data/exp_Zhu22_Corals_CCSM4/configs.yml', verbose=True)\n",
    "job.run_cfg('./data/exp_Zhu22_Corals_CCSM4_updated_Palmyra/configs.yml', verbose=True)"
   ]
  },
  {
   "cell_type": "code",
   "execution_count": null,
   "metadata": {},
   "outputs": [],
   "source": []
  }
 ],
 "metadata": {
  "interpreter": {
   "hash": "3b26139a24feac338b2bb2b50be750a5305ce40948a74d9c6ce6f1e8c387bb64"
  },
  "kernelspec": {
   "display_name": "Python 3.9.12 ('p2k-env')",
   "language": "python",
   "name": "python3"
  },
  "language_info": {
   "codemirror_mode": {
    "name": "ipython",
    "version": 3
   },
   "file_extension": ".py",
   "mimetype": "text/x-python",
   "name": "python",
   "nbconvert_exporter": "python",
   "pygments_lexer": "ipython3",
   "version": "3.9.12"
  }
 },
 "nbformat": 4,
 "nbformat_minor": 2
}
