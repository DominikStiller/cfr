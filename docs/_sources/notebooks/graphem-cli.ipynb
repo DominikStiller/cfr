{
 "cells": [
  {
   "attachments": {},
   "cell_type": "markdown",
   "metadata": {},
   "source": [
    "# Running GraphEM with the Command Line Interface (CLI)"
   ]
  },
  {
   "attachments": {},
   "cell_type": "markdown",
   "metadata": {},
   "source": [
    "## Generating the `configs.yml` file"
   ]
  },
  {
   "cell_type": "code",
   "execution_count": 1,
   "metadata": {},
   "outputs": [],
   "source": [
    "%load_ext autoreload\n",
    "%autoreload 2\n",
    "\n",
    "import cfr\n",
    "print(cfr.__version__)"
   ]
  },
  {
   "cell_type": "code",
   "execution_count": 2,
   "metadata": {},
   "outputs": [],
   "source": [
    "job = cfr.ReconJob()\n",
    "job.load_proxydb('PAGES2kv2')"
   ]
  },
  {
   "cell_type": "code",
   "execution_count": 3,
   "metadata": {},
   "outputs": [
    {
     "name": "stderr",
     "output_type": "stream",
     "text": [
      "Annualizing ProxyDatabase: 100%|██████████| 29/29 [00:00<00:00, 40.05it/s]\n",
      "Centering each of the ProxyRecord: 100%|██████████| 29/29 [00:00<00:00, 16457.15it/s]\n"
     ]
    },
    {
     "name": "stdout",
     "output_type": "stream",
     "text": [
      "\u001b[90m\u001b[1m>>> The target file seems existed at: ./data/gistemp1200_GHCNv4_ERSSTv5.nc.gz . Loading from it instead of downloading ...\n",
      "\u001b[0m"
     ]
    }
   ],
   "source": [
    "job.filter_proxydb(by='ptype', keys=['coral.SrCa'])\n",
    "job.annualize_proxydb(months=[12, 1, 2], ptypes=['coral'])\n",
    "job.center_proxydb()\n",
    "\n",
    "# obs: fetching & preprocessing\n",
    "job.load_clim(tag='obs', path_dict={'tas': 'gistemp1200_GHCNv4_ERSSTv5'}, anom_period=[1951, 1980], rename_dict={'tas': 'tempanomaly'})\n",
    "\n",
    "# obs: processing\n",
    "job.annualize_clim(tag='obs', months=[12, 1, 2])\n",
    "job.regrid_clim(tag='obs', nlat=42, nlon=63)\n",
    "job.crop_clim(tag='obs', lat_min=-35, lat_max=35)"
   ]
  },
  {
   "cell_type": "code",
   "execution_count": 4,
   "metadata": {},
   "outputs": [
    {
     "name": "stdout",
     "output_type": "stream",
     "text": [
      "\u001b[36m\u001b[1m>>> job.configs[\"recon_period\"] = [1801, 2000]\n",
      "\u001b[0m\u001b[36m\u001b[1m>>> job.configs[\"recon_timescale\"] = 1\n",
      "\u001b[0m\u001b[36m\u001b[1m>>> job.configs[\"calib_period\"] = [1901, 2000]\n",
      "\u001b[0m\u001b[32m\u001b[1m>>> job.graphem_params[\"recon_time\"] created\n",
      "\u001b[0m\u001b[32m\u001b[1m>>> job.graphem_params[\"calib_time\"] created\n",
      "\u001b[0m\u001b[32m\u001b[1m>>> job.graphem_params[\"field_obs\"] created\n",
      "\u001b[0m\u001b[32m\u001b[1m>>> job.graphem_params[\"calib_idx\"] created\n",
      "\u001b[0m\u001b[32m\u001b[1m>>> job.graphem_params[\"field\"] created\n",
      "\u001b[0m\u001b[32m\u001b[1m>>> job.graphem_params[\"df_proxy\"] created\n",
      "\u001b[0m\u001b[32m\u001b[1m>>> job.graphem_params[\"proxy\"] created\n",
      "\u001b[0m\u001b[32m\u001b[1m>>> job.graphem_params[\"lonlat\"] created\n",
      "\u001b[0m"
     ]
    }
   ],
   "source": [
    "job.prep_graphem(\n",
    "    recon_period=(1801, 2000),  # period to reconstruct\n",
    "    calib_period=(1901, 2000),  # period for calibration\n",
    "    verbose=True,\n",
    ")"
   ]
  },
  {
   "cell_type": "code",
   "execution_count": 5,
   "metadata": {},
   "outputs": [
    {
     "name": "stdout",
     "output_type": "stream",
     "text": [
      "\u001b[36m\u001b[1m>>> job.configs[\"compress_params\"] = {'zlib': True}\n",
      "\u001b[0m\u001b[36m\u001b[1m>>> job.configs[\"save_dirpath\"] = ./recons/test-run-graphem-cfg\n",
      "\u001b[0m\u001b[36m\u001b[1m>>> job.configs[\"save_filename\"] = job_r01_recon.nc\n",
      "\u001b[0m\u001b[36m\u001b[1m>>> job.configs[\"graph_method\"] = neighborhood\n",
      "\u001b[0m\u001b[36m\u001b[1m>>> job.configs[\"cutoff_radius\"] = 1500\n",
      "\u001b[0mComputing a neighborhood graph with R = 1500.0 km\n",
      "Estimating graph using neighborhood method\n",
      "Running GraphEM:\n",
      "\n"
     ]
    },
    {
     "name": "stderr",
     "output_type": "stream",
     "text": [
      "EM | dXmis: 0.0107; rdXmis: nan:   0%|          | 1/200 [00:50<2:47:33, 50.52s/it]"
     ]
    },
    {
     "name": "stdout",
     "output_type": "stream",
     "text": [
      "GraphEM.EM(): Tolerance achieved.\n",
      "\u001b[32m\u001b[1mjob.graphem_solver created and saved to: None\n",
      "\u001b[0m\u001b[32m\u001b[1m>>> job.recon_fields created\n",
      "\u001b[0m\u001b[32m\u001b[1m>>> Reconstructed fields saved to: ./recons/test-run-graphem-cfg/job_r01_recon.nc\n",
      "\u001b[0mCPU times: user 7min 36s, sys: 2min 12s, total: 9min 49s\n",
      "Wall time: 54.8 s\n"
     ]
    },
    {
     "name": "stderr",
     "output_type": "stream",
     "text": [
      "\n"
     ]
    }
   ],
   "source": [
    "%%time\n",
    "\n",
    "# GraphEM\n",
    "job.run_graphem(\n",
    "    save_dirpath='./recons/test-run-graphem-cfg',\n",
    "    graph_method='neighborhood',\n",
    "    cutoff_radius=1500,\n",
    "    verbose=True,\n",
    ")"
   ]
  },
  {
   "cell_type": "code",
   "execution_count": 6,
   "metadata": {},
   "outputs": [],
   "source": [
    "job.save_cfg('./recons/test-run-graphem-cfg')"
   ]
  },
  {
   "attachments": {},
   "cell_type": "markdown",
   "metadata": {},
   "source": [
    "## Testing running the reconstruction job based on the generated `configs.yml` file"
   ]
  },
  {
   "cell_type": "code",
   "execution_count": 7,
   "metadata": {},
   "outputs": [
    {
     "name": "stdout",
     "output_type": "stream",
     "text": [
      "\u001b[36m\u001b[1m>>> job.configs[\"proxydb_path\"] = PAGES2kv2\n",
      "\u001b[0m\u001b[32m\u001b[1m>>> 692 records loaded\n",
      "\u001b[0m\u001b[32m\u001b[1m>>> job.proxydb created\n",
      "\u001b[0m\u001b[36m\u001b[1m>>> job.configs[\"filter_proxydb_args\"] = []\n",
      "\u001b[0m\u001b[36m\u001b[1m>>> job.configs[\"filter_proxydb_kwargs\"] = {'by': 'ptype', 'keys': ['coral.SrCa']}\n",
      "\u001b[0m\u001b[32m\u001b[1m>>> 29 records remaining\n",
      "\u001b[0m\u001b[32m\u001b[1m>>> job.proxydb updated\n",
      "\u001b[0m"
     ]
    },
    {
     "name": "stderr",
     "output_type": "stream",
     "text": [
      "Annualizing ProxyDatabase: 100%|██████████| 29/29 [00:00<00:00, 38.38it/s]\n",
      "Centering each of the ProxyRecord: 100%|██████████| 29/29 [00:00<00:00, 19041.14it/s]\n"
     ]
    },
    {
     "name": "stdout",
     "output_type": "stream",
     "text": [
      "\u001b[36m\u001b[1m>>> job.configs[\"obs_path\"] = {'tas': 'gistemp1200_GHCNv4_ERSSTv5'}\n",
      "\u001b[0m\u001b[36m\u001b[1m>>> job.configs[\"obs_rename_dict\"] = {'tas': 'tempanomaly'}\n",
      "\u001b[0m\u001b[36m\u001b[1m>>> job.configs[\"obs_anom_period\"] = [1951, 1980]\n",
      "\u001b[0m\u001b[90m\u001b[1m>>> The target file seems existed at: ./data/gistemp1200_GHCNv4_ERSSTv5.nc.gz . Loading from it instead of downloading ...\n",
      "\u001b[0m\u001b[32m\u001b[1m>>> obs variables ['tas'] loaded\n",
      "\u001b[0m\u001b[32m\u001b[1m>>> job.obs created\n",
      "\u001b[0m\u001b[36m\u001b[1m>>> job.configs[\"obs_annualize_months\"] = [12, 1, 2]\n",
      "\u001b[0m\u001b[36m\u001b[1m>>> Processing tas ...\n",
      "\u001b[0m\u001b[32m\u001b[1m>>> job.obs updated\n",
      "\u001b[0m\u001b[36m\u001b[1m>>> job.configs[\"obs_regrid_nlat\"] = 42\n",
      "\u001b[0m\u001b[36m\u001b[1m>>> job.configs[\"obs_regrid_nlon\"] = 63\n",
      "\u001b[0m\u001b[36m\u001b[1m>>> Processing tas ...\n",
      "\u001b[0m\u001b[36m\u001b[1m>>> job.configs[\"obs_lat_min\"] = -35\n",
      "\u001b[0m\u001b[36m\u001b[1m>>> job.configs[\"obs_lat_max\"] = 35\n",
      "\u001b[0m\u001b[36m\u001b[1m>>> job.configs[\"obs_lon_min\"] = 0\n",
      "\u001b[0m\u001b[36m\u001b[1m>>> job.configs[\"obs_lon_max\"] = 360\n",
      "\u001b[0m\u001b[36m\u001b[1m>>> Processing tas ...\n",
      "\u001b[0m\u001b[36m\u001b[1m>>> job.configs[\"recon_period\"] = [1801, 2000]\n",
      "\u001b[0m\u001b[36m\u001b[1m>>> job.configs[\"calib_period\"] = [1901, 2000]\n",
      "\u001b[0m\u001b[32m\u001b[1m>>> job.graphem_params[\"recon_time\"] created\n",
      "\u001b[0m\u001b[32m\u001b[1m>>> job.graphem_params[\"calib_time\"] created\n",
      "\u001b[0m\u001b[32m\u001b[1m>>> job.graphem_params[\"field_obs\"] created\n",
      "\u001b[0m\u001b[32m\u001b[1m>>> job.graphem_params[\"calib_idx\"] created\n",
      "\u001b[0m\u001b[32m\u001b[1m>>> job.graphem_params[\"field\"] created\n",
      "\u001b[0m\u001b[32m\u001b[1m>>> job.graphem_params[\"df_proxy\"] created\n",
      "\u001b[0m\u001b[32m\u001b[1m>>> job.graphem_params[\"proxy\"] created\n",
      "\u001b[0m\u001b[32m\u001b[1m>>> job.graphem_params[\"lonlat\"] created\n",
      "\u001b[0m\u001b[36m\u001b[1m>>> job.configs[\"save_dirpath\"] = ./recons/test-run-graphem-cfg\n",
      "\u001b[0m\u001b[32m\u001b[1m>>> job.configs saved to: ./recons/test-run-graphem-cfg/configs.yml\n",
      "\u001b[0mComputing a neighborhood graph with R = 1500.0 km\n",
      "Estimating graph using neighborhood method\n"
     ]
    },
    {
     "name": "stderr",
     "output_type": "stream",
     "text": [
      "EM | dXmis: 0.0107; rdXmis: nan:   0%|          | 1/200 [00:54<3:00:52, 54.54s/it]"
     ]
    },
    {
     "name": "stdout",
     "output_type": "stream",
     "text": [
      "GraphEM.EM(): Tolerance achieved.\n"
     ]
    },
    {
     "name": "stderr",
     "output_type": "stream",
     "text": [
      "\n"
     ]
    }
   ],
   "source": [
    "job_cfg = cfr.ReconJob()\n",
    "job_cfg.run_graphem_cfg('./recons/test-run-graphem-cfg/configs.yml', verbose=True)"
   ]
  },
  {
   "attachments": {},
   "cell_type": "markdown",
   "metadata": {},
   "source": [
    "## Leveraging the CLI"
   ]
  },
  {
   "cell_type": "code",
   "execution_count": 9,
   "metadata": {},
   "outputs": [
    {
     "name": "stdout",
     "output_type": "stream",
     "text": [
      "usage: cfr [-h] [-v] {da,graphem} ...\n",
      "\n",
      "========================================================================================\n",
      " cfr: a scripting system for CFR (Feng Zhu, fengzhu@ucar.edu)\n",
      "----------------------------------------------------------------------------------------\n",
      " Usage example for DA:\n",
      "    cfr da -c config.yml -vb -s 1 2 -r\n",
      "    # -c config.yml: run the reconstruction job according to config.yml\n",
      "    # -vb: output the verbose runtime information\n",
      "    # -s 1 2: set seeds as integers from 1 to 2\n",
      "    # -r: run the Monte-Carlo iterations for PDA\n",
      "\n",
      " Usage example for GraphEM:\n",
      "    cfr graphem -c config.yml -vb\n",
      "    # -c config.yml: run the reconstruction job according to config.yml\n",
      "    # -vb: output the verbose runtime information\n",
      "========================================================================================\n",
      "            \n",
      "\n",
      "positional arguments:\n",
      "  {da,graphem}   running mode\n",
      "    da           run a DA-based reconstruction\n",
      "    graphem      run a GraphEM-based reconstruction\n",
      "\n",
      "optional arguments:\n",
      "  -h, --help     show this help message and exit\n",
      "  -v, --version  show program's version number and exit\n"
     ]
    }
   ],
   "source": [
    "!cfr -h"
   ]
  },
  {
   "cell_type": "code",
   "execution_count": 10,
   "metadata": {},
   "outputs": [
    {
     "name": "stdout",
     "output_type": "stream",
     "text": [
      "\u001b[36m\u001b[1m>>> job.configs[\"proxydb_path\"] = PAGES2kv2\n",
      "\u001b[0m\u001b[32m\u001b[1m>>> 692 records loaded\n",
      "\u001b[0m\u001b[32m\u001b[1m>>> job.proxydb created\n",
      "\u001b[0m\u001b[36m\u001b[1m>>> job.configs[\"filter_proxydb_args\"] = []\n",
      "\u001b[0m\u001b[36m\u001b[1m>>> job.configs[\"filter_proxydb_kwargs\"] = {'by': 'ptype', 'keys': ['coral.SrCa']}\n",
      "\u001b[0m\u001b[32m\u001b[1m>>> 29 records remaining\n",
      "\u001b[0m\u001b[32m\u001b[1m>>> job.proxydb updated\n",
      "Annualizing ProxyDatabase: 100%|████████████████| 29/29 [00:00<00:00, 47.03it/s]\n",
      "Centering each of the ProxyRecord: 100%|█████| 29/29 [00:00<00:00, 25172.77it/s]\n",
      "\u001b[36m\u001b[1m>>> job.configs[\"obs_path\"] = {'tas': 'gistemp1200_GHCNv4_ERSSTv5'}\n",
      "\u001b[0m\u001b[36m\u001b[1m>>> job.configs[\"obs_rename_dict\"] = {'tas': 'tempanomaly'}\n",
      "\u001b[0m\u001b[36m\u001b[1m>>> job.configs[\"obs_anom_period\"] = [1951, 1980]\n",
      "\u001b[0m\u001b[90m\u001b[1m>>> The target file seems existed at: ./data/gistemp1200_GHCNv4_ERSSTv5.nc.gz . Loading from it instead of downloading ...\n",
      "\u001b[0m\u001b[32m\u001b[1m>>> obs variables ['tas'] loaded\n",
      "\u001b[0m\u001b[32m\u001b[1m>>> job.obs created\n",
      "\u001b[0m\u001b[36m\u001b[1m>>> job.configs[\"obs_annualize_months\"] = [12, 1, 2]\n",
      "\u001b[0m\u001b[36m\u001b[1m>>> Processing tas ...\n",
      "\u001b[0m\u001b[32m\u001b[1m>>> job.obs updated\n",
      "\u001b[0m\u001b[36m\u001b[1m>>> job.configs[\"obs_regrid_nlat\"] = 42\n",
      "\u001b[0m\u001b[36m\u001b[1m>>> job.configs[\"obs_regrid_nlon\"] = 63\n",
      "\u001b[0m\u001b[36m\u001b[1m>>> Processing tas ...\n",
      "\u001b[0m\u001b[36m\u001b[1m>>> job.configs[\"obs_lat_min\"] = -35\n",
      "\u001b[0m\u001b[36m\u001b[1m>>> job.configs[\"obs_lat_max\"] = 35\n",
      "\u001b[0m\u001b[36m\u001b[1m>>> job.configs[\"obs_lon_min\"] = 0\n",
      "\u001b[0m\u001b[36m\u001b[1m>>> job.configs[\"obs_lon_max\"] = 360\n",
      "\u001b[0m\u001b[36m\u001b[1m>>> Processing tas ...\n",
      "\u001b[0m\u001b[36m\u001b[1m>>> job.configs[\"recon_period\"] = [1801, 2000]\n",
      "\u001b[0m\u001b[36m\u001b[1m>>> job.configs[\"calib_period\"] = [1901, 2000]\n",
      "\u001b[0m\u001b[32m\u001b[1m>>> job.graphem_params[\"recon_time\"] created\n",
      "\u001b[0m\u001b[32m\u001b[1m>>> job.graphem_params[\"calib_time\"] created\n",
      "\u001b[0m\u001b[32m\u001b[1m>>> job.graphem_params[\"field_obs\"] created\n",
      "\u001b[0m\u001b[32m\u001b[1m>>> job.graphem_params[\"calib_idx\"] created\n",
      "\u001b[0m\u001b[32m\u001b[1m>>> job.graphem_params[\"field\"] created\n",
      "\u001b[0m\u001b[32m\u001b[1m>>> job.graphem_params[\"df_proxy\"] created\n",
      "\u001b[0m\u001b[32m\u001b[1m>>> job.graphem_params[\"proxy\"] created\n",
      "\u001b[0m\u001b[32m\u001b[1m>>> job.graphem_params[\"lonlat\"] created\n",
      "\u001b[0m\u001b[36m\u001b[1m>>> job.configs[\"save_dirpath\"] = ./recons/test-run-graphem-cfg\n",
      "\u001b[0m\u001b[32m\u001b[1m>>> job.configs saved to: ./recons/test-run-graphem-cfg/configs.yml\n",
      "\u001b[0m\u001b[36m\u001b[1m>>> job.configs[\"save_dirpath\"] = ./recons/test-run-graphem-cfg\n",
      "\u001b[0m\u001b[36m\u001b[1m>>> job.configs[\"graph_method\"] = neighborhood\n",
      "\u001b[0m\u001b[36m\u001b[1m>>> job.configs[\"cutoff_radius\"] = 1500\n",
      "\u001b[0mComputing a neighborhood graph with R = 1500.0 km\n",
      "Estimating graph using neighborhood method\n",
      "Running GraphEM:\n",
      "\n",
      "EM | dXmis: 0.0107; rdXmis: nan:   0%|        | 1/200 [00:54<2:59:29, 54.12s/it]GraphEM.EM(): Tolerance achieved.\n",
      "EM | dXmis: 0.0107; rdXmis: nan:   0%|        | 1/200 [00:54<2:59:29, 54.12s/it]\n",
      "\u001b[32m\u001b[1mjob.graphem_solver created and saved to: None\n",
      "\u001b[0m\u001b[32m\u001b[1m>>> job.recon_fields created\n",
      "\u001b[0m\u001b[32m\u001b[1m>>> Reconstructed fields saved to: ./recons/test-run-graphem-cfg/job_r01_recon.nc\n",
      "\u001b[0m"
     ]
    }
   ],
   "source": [
    "!cfr graphem -c ./recons/test-run-graphem-cfg/configs.yml -vb"
   ]
  },
  {
   "cell_type": "code",
   "execution_count": null,
   "metadata": {},
   "outputs": [],
   "source": []
  }
 ],
 "metadata": {
  "kernelspec": {
   "display_name": "cfr-env",
   "language": "python",
   "name": "python3"
  },
  "language_info": {
   "codemirror_mode": {
    "name": "ipython",
    "version": 3
   },
   "file_extension": ".py",
   "mimetype": "text/x-python",
   "name": "python",
   "nbconvert_exporter": "python",
   "pygments_lexer": "ipython3",
   "version": "3.9.16"
  },
  "orig_nbformat": 4
 },
 "nbformat": 4,
 "nbformat_minor": 2
}
