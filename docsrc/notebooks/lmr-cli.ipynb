{
 "cells": [
  {
   "attachments": {},
   "cell_type": "markdown",
   "metadata": {},
   "source": [
    "# Running DA with the Command Line Interface (CLI)"
   ]
  },
  {
   "attachments": {},
   "cell_type": "markdown",
   "metadata": {},
   "source": [
    "## Generating the `configs.yml` file"
   ]
  },
  {
   "cell_type": "code",
   "execution_count": 1,
   "metadata": {},
   "outputs": [],
   "source": [
    "%load_ext autoreload\n",
    "%autoreload 2\n",
    "\n",
    "import cfr\n",
    "print(cfr.__version__)"
   ]
  },
  {
   "cell_type": "code",
   "execution_count": 2,
   "metadata": {},
   "outputs": [],
   "source": [
    "job = cfr.ReconJob()\n",
    "job.load_proxydb('PAGES2kv2')"
   ]
  },
  {
   "cell_type": "code",
   "execution_count": 3,
   "metadata": {},
   "outputs": [
    {
     "name": "stderr",
     "output_type": "stream",
     "text": [
      "Annualizing ProxyDatabase: 100%|██████████| 29/29 [00:00<00:00, 40.82it/s]\n"
     ]
    },
    {
     "name": "stdout",
     "output_type": "stream",
     "text": [
      "\u001b[90m\u001b[1m>>> The target file seems existed at: ./data/tas_sfc_Amon_iCESM_past1000historical_085001-200512.nc . Loading from it instead of downloading ...\n",
      "\u001b[0m\u001b[90m\u001b[1m>>> The target file seems existed at: ./data/gistemp1200_GHCNv4_ERSSTv5.nc.gz . Loading from it instead of downloading ...\n",
      "\u001b[0m"
     ]
    },
    {
     "name": "stderr",
     "output_type": "stream",
     "text": [
      "Calibrating the PSMs:  48%|████▊     | 14/29 [00:00<00:00, 39.09it/s]"
     ]
    },
    {
     "name": "stdout",
     "output_type": "stream",
     "text": [
      "The number of overlapped data points is 22 < 25. Skipping ...\n",
      "The number of overlapped data points is 24 < 25. Skipping ...\n",
      "The number of overlapped data points is 22 < 25. Skipping ...\n"
     ]
    },
    {
     "name": "stderr",
     "output_type": "stream",
     "text": [
      "Calibrating the PSMs: 100%|██████████| 29/29 [00:00<00:00, 39.85it/s]\n"
     ]
    },
    {
     "name": "stdout",
     "output_type": "stream",
     "text": [
      "The number of overlapped data points is 21 < 25. Skipping ...\n"
     ]
    },
    {
     "name": "stderr",
     "output_type": "stream",
     "text": [
      "Forwarding the PSMs: 100%|██████████| 25/25 [00:03<00:00,  6.68it/s]\n"
     ]
    }
   ],
   "source": [
    "job.filter_proxydb(by='ptype', keys=['coral.SrCa'])\n",
    "job.annualize_proxydb(months=[12, 1, 2], ptypes=['coral'])\n",
    "\n",
    "# model prior: fetching & preprocessing\n",
    "job.load_clim(tag='prior', path_dict={'tas': 'iCESM_past1000historical/tas'}, anom_period=[1951, 1980])\n",
    "job.load_clim(tag='obs', path_dict={'tas': 'gistemp1200_GHCNv4_ERSSTv5'}, anom_period=[1951, 1980], rename_dict={'tas': 'tempanomaly'})\n",
    "\n",
    "# proxy system modeling\n",
    "job.calib_psms(\n",
    "    ptype_psm_dict={'coral.d18O': 'Linear', 'coral.calc': 'Linear', 'coral.SrCa': 'Linear'},\n",
    "    ptype_season_dict={'coral.d18O': [12, 1, 2], 'coral.calc': [12, 1, 2], 'coral.SrCa': [12, 1, 2]},\n",
    "    calib_period=[1850, 2015],\n",
    ")\n",
    "job.forward_psms()\n",
    "\n",
    "# model prior: processing\n",
    "job.annualize_clim(tag='prior', months=[12, 1, 2])\n",
    "job.regrid_clim(tag='prior', nlat=42, nlon=63)\n",
    "job.crop_clim(tag='prior', lat_min=-35, lat_max=35)\n"
   ]
  },
  {
   "cell_type": "code",
   "execution_count": 4,
   "metadata": {},
   "outputs": [
    {
     "name": "stderr",
     "output_type": "stream",
     "text": [
      "KF updating: 100%|██████████| 2001/2001 [00:02<00:00, 821.45it/s] \n"
     ]
    },
    {
     "name": "stdout",
     "output_type": "stream",
     "text": [
      "\u001b[32m\u001b[1m>>> DONE! Total time spent: 0.12 mins.\n",
      "\u001b[0m"
     ]
    }
   ],
   "source": [
    "# paleo data assimilation\n",
    "job.run_da_mc(save_dirpath='./recons/test-run-da-cfg', recon_seeds=list(range(1, 2)))"
   ]
  },
  {
   "cell_type": "code",
   "execution_count": 5,
   "metadata": {},
   "outputs": [],
   "source": [
    "job.save_cfg('./recons/test-run-da-cfg')"
   ]
  },
  {
   "attachments": {},
   "cell_type": "markdown",
   "metadata": {},
   "source": [
    "## Testing running the reconstruction job based on the generated `configs.yml` file"
   ]
  },
  {
   "cell_type": "code",
   "execution_count": 6,
   "metadata": {},
   "outputs": [
    {
     "name": "stdout",
     "output_type": "stream",
     "text": [
      "\u001b[32m\u001b[1m>>> job.configs loaded\n",
      "\u001b[0m{'allownan': False,\n",
      " 'annualize_proxydb_months': [12, 1, 2],\n",
      " 'annualize_proxydb_ptypes': ['coral'],\n",
      " 'assim_frac': 0.75,\n",
      " 'compress_params': {'zlib': True},\n",
      " 'filter_proxydb_args': [],\n",
      " 'filter_proxydb_kwargs': {'by': 'ptype', 'keys': ['coral.SrCa']},\n",
      " 'nens': 100,\n",
      " 'obs_anom_period': [1951, 1980],\n",
      " 'obs_lat_name': 'lat',\n",
      " 'obs_lon_name': 'lon',\n",
      " 'obs_path': {'tas': 'gistemp1200_GHCNv4_ERSSTv5'},\n",
      " 'obs_rename_dict': {'tas': 'tempanomaly'},\n",
      " 'obs_time_name': 'time',\n",
      " 'output_full_ens': False,\n",
      " 'output_indices': ['gm', 'nhm', 'shm', 'nino3.4'],\n",
      " 'prior_annualize_months': [12, 1, 2],\n",
      " 'prior_anom_period': [1951, 1980],\n",
      " 'prior_lat_max': 35,\n",
      " 'prior_lat_min': -35,\n",
      " 'prior_lat_name': 'lat',\n",
      " 'prior_lon_max': 360,\n",
      " 'prior_lon_min': 0,\n",
      " 'prior_lon_name': 'lon',\n",
      " 'prior_path': {'tas': 'iCESM_past1000historical/tas'},\n",
      " 'prior_regrid_nlat': 42,\n",
      " 'prior_regrid_nlon': 63,\n",
      " 'prior_time_name': 'time',\n",
      " 'proxy_assim_frac': 0.75,\n",
      " 'proxydb_path': 'PAGES2kv2',\n",
      " 'psm_calib_period': [1850, 2015],\n",
      " 'ptype_psm_dict': {'coral.SrCa': 'Linear',\n",
      "                    'coral.calc': 'Linear',\n",
      "                    'coral.d18O': 'Linear'},\n",
      " 'ptype_season_dict': {'coral.SrCa': [12, 1, 2],\n",
      "                       'coral.calc': [12, 1, 2],\n",
      "                       'coral.d18O': [12, 1, 2]},\n",
      " 'recon_loc_rad': 25000,\n",
      " 'recon_period': [0, 2000],\n",
      " 'recon_sampling_mode': 'fixed',\n",
      " 'recon_seeds': [1],\n",
      " 'recon_timescale': 1,\n",
      " 'recon_vars': ['tas'],\n",
      " 'save_dirpath': './recons/test-run-da-cfg',\n",
      " 'trim_prior': True}\n",
      "\u001b[36m\u001b[1m>>> job.configs[\"proxydb_path\"] = PAGES2kv2\n",
      "\u001b[0m\u001b[32m\u001b[1m>>> 692 records loaded\n",
      "\u001b[0m\u001b[32m\u001b[1m>>> job.proxydb created\n",
      "\u001b[0m\u001b[36m\u001b[1m>>> job.configs[\"filter_proxydb_args\"] = []\n",
      "\u001b[0m\u001b[36m\u001b[1m>>> job.configs[\"filter_proxydb_kwargs\"] = {'by': 'ptype', 'keys': ['coral.SrCa']}\n",
      "\u001b[0m\u001b[32m\u001b[1m>>> 29 records remaining\n",
      "\u001b[0m\u001b[32m\u001b[1m>>> job.proxydb updated\n",
      "\u001b[0m"
     ]
    },
    {
     "name": "stderr",
     "output_type": "stream",
     "text": [
      "Annualizing ProxyDatabase: 100%|██████████| 29/29 [00:00<00:00, 42.31it/s]\n"
     ]
    },
    {
     "name": "stdout",
     "output_type": "stream",
     "text": [
      "\u001b[36m\u001b[1m>>> job.configs[\"prior_path\"] = {'tas': 'iCESM_past1000historical/tas'}\n",
      "\u001b[0m\u001b[36m\u001b[1m>>> job.configs[\"prior_anom_period\"] = [1951, 1980]\n",
      "\u001b[0m\u001b[90m\u001b[1m>>> The target file seems existed at: ./data/tas_sfc_Amon_iCESM_past1000historical_085001-200512.nc . Loading from it instead of downloading ...\n",
      "\u001b[0m\u001b[32m\u001b[1m>>> prior variables ['tas'] loaded\n",
      "\u001b[0m\u001b[32m\u001b[1m>>> job.prior created\n",
      "\u001b[0m\u001b[36m\u001b[1m>>> job.configs[\"obs_path\"] = {'tas': 'gistemp1200_GHCNv4_ERSSTv5'}\n",
      "\u001b[0m\u001b[36m\u001b[1m>>> job.configs[\"obs_rename_dict\"] = {'tas': 'tempanomaly'}\n",
      "\u001b[0m\u001b[36m\u001b[1m>>> job.configs[\"obs_anom_period\"] = [1951, 1980]\n",
      "\u001b[0m\u001b[90m\u001b[1m>>> The target file seems existed at: ./data/gistemp1200_GHCNv4_ERSSTv5.nc.gz . Loading from it instead of downloading ...\n",
      "\u001b[0m\u001b[32m\u001b[1m>>> obs variables ['tas'] loaded\n",
      "\u001b[0m\u001b[32m\u001b[1m>>> job.obs created\n",
      "\u001b[0m\u001b[36m\u001b[1m>>> job.configs[\"ptype_psm_dict\"] = {'coral.SrCa': 'Linear', 'coral.calc': 'Linear', 'coral.d18O': 'Linear'}\n",
      "\u001b[0m\u001b[36m\u001b[1m>>> job.configs[\"ptype_season_dict\"] = {'coral.SrCa': [12, 1, 2], 'coral.calc': [12, 1, 2], 'coral.d18O': [12, 1, 2]}\n",
      "\u001b[0m"
     ]
    },
    {
     "name": "stderr",
     "output_type": "stream",
     "text": [
      "Calibrating the PSMs:  17%|█▋        | 5/29 [00:00<00:00, 41.24it/s]"
     ]
    },
    {
     "name": "stdout",
     "output_type": "stream",
     "text": [
      "The number of overlapped data points is 22 < 25. Skipping ...\n",
      "The number of overlapped data points is 24 < 25. Skipping ...\n"
     ]
    },
    {
     "name": "stderr",
     "output_type": "stream",
     "text": [
      "Calibrating the PSMs:  34%|███▍      | 10/29 [00:00<00:00, 41.48it/s]"
     ]
    },
    {
     "name": "stdout",
     "output_type": "stream",
     "text": [
      "The number of overlapped data points is 22 < 25. Skipping ...\n"
     ]
    },
    {
     "name": "stderr",
     "output_type": "stream",
     "text": [
      "Calibrating the PSMs:  69%|██████▉   | 20/29 [00:00<00:00, 40.86it/s]"
     ]
    },
    {
     "name": "stdout",
     "output_type": "stream",
     "text": [
      "The number of overlapped data points is 21 < 25. Skipping ...\n"
     ]
    },
    {
     "name": "stderr",
     "output_type": "stream",
     "text": [
      "Calibrating the PSMs: 100%|██████████| 29/29 [00:00<00:00, 40.97it/s]\n"
     ]
    },
    {
     "name": "stdout",
     "output_type": "stream",
     "text": [
      "\u001b[33m\u001b[1m>>> PSM for Ocn_150 failed to be calibrated.\n",
      "\u001b[0m\u001b[33m\u001b[1m>>> PSM for Ocn_152 failed to be calibrated.\n",
      "\u001b[0m\u001b[33m\u001b[1m>>> PSM for Ocn_165 failed to be calibrated.\n",
      "\u001b[0m\u001b[33m\u001b[1m>>> PSM for Ocn_183 failed to be calibrated.\n",
      "\u001b[0m\u001b[32m\u001b[1m>>> 25 records tagged \"calibrated\" with ProxyRecord.psm created\n",
      "\u001b[0m"
     ]
    },
    {
     "name": "stderr",
     "output_type": "stream",
     "text": [
      "Forwarding the PSMs: 100%|██████████| 25/25 [00:03<00:00,  6.51it/s]\n"
     ]
    },
    {
     "name": "stdout",
     "output_type": "stream",
     "text": [
      "\u001b[32m\u001b[1m>>> ProxyRecord.pseudo created for 25 records\n",
      "\u001b[0m\u001b[36m\u001b[1m>>> job.configs[\"prior_annualize_months\"] = [12, 1, 2]\n",
      "\u001b[0m\u001b[36m\u001b[1m>>> Processing tas ...\n",
      "\u001b[0m\u001b[32m\u001b[1m>>> job.prior updated\n",
      "\u001b[0m\u001b[36m\u001b[1m>>> job.configs[\"prior_regrid_nlat\"] = 42\n",
      "\u001b[0m\u001b[36m\u001b[1m>>> job.configs[\"prior_regrid_nlon\"] = 63\n",
      "\u001b[0m\u001b[36m\u001b[1m>>> Processing tas ...\n",
      "\u001b[0m\u001b[36m\u001b[1m>>> job.configs[\"prior_lat_min\"] = -35\n",
      "\u001b[0m\u001b[36m\u001b[1m>>> job.configs[\"prior_lat_max\"] = 35\n",
      "\u001b[0m\u001b[36m\u001b[1m>>> job.configs[\"prior_lon_min\"] = 0\n",
      "\u001b[0m\u001b[36m\u001b[1m>>> job.configs[\"prior_lon_max\"] = 360\n",
      "\u001b[0m\u001b[36m\u001b[1m>>> Processing tas ...\n",
      "\u001b[0m\u001b[36m\u001b[1m>>> job.configs[\"save_dirpath\"] = ./recons/test-run-da-cfg\n",
      "\u001b[0m\u001b[32m\u001b[1m>>> job.configs saved to: ./recons/test-run-da-cfg/configs.yml\n",
      "\u001b[0m\u001b[32m\u001b[1m>>> DONE! Total time used: 0.35 mins.\n",
      "\u001b[0m\u001b[36m\u001b[1m>>> job.configs[\"recon_period\"] = [0, 2000]\n",
      "\u001b[0m\u001b[36m\u001b[1m>>> job.configs[\"recon_loc_rad\"] = 25000\n",
      "\u001b[0m\u001b[36m\u001b[1m>>> job.configs[\"recon_timescale\"] = 1\n",
      "\u001b[0m\u001b[36m\u001b[1m>>> job.configs[\"assim_frac\"] = 0.75\n",
      "\u001b[0m\u001b[36m\u001b[1m>>> job.configs[\"compress_params\"] = {'zlib': True}\n",
      "\u001b[0m\u001b[36m\u001b[1m>>> job.configs[\"output_full_ens\"] = False\n",
      "\u001b[0m\u001b[36m\u001b[1m>>> seed: 1 | max: 1\n",
      "\u001b[0m"
     ]
    },
    {
     "name": "stderr",
     "output_type": "stream",
     "text": [
      "KF updating: 100%|██████████| 2001/2001 [00:02<00:00, 743.13it/s] \n"
     ]
    },
    {
     "name": "stdout",
     "output_type": "stream",
     "text": [
      "\u001b[32m\u001b[1m>>> Reconstructed fields saved to: ./recons/test-run-da-cfg/job_r01_recon.nc\n",
      "\u001b[0m\u001b[32m\u001b[1m>>> DONE! Total time spent: 0.13 mins.\n",
      "\u001b[0m"
     ]
    }
   ],
   "source": [
    "job_cfg = cfr.ReconJob()\n",
    "job_cfg.run_da_cfg('./recons/test-run-da-cfg/configs.yml', run_mc=True, verbose=True)"
   ]
  },
  {
   "attachments": {},
   "cell_type": "markdown",
   "metadata": {},
   "source": [
    "## Leveraging the CLI"
   ]
  },
  {
   "cell_type": "code",
   "execution_count": 7,
   "metadata": {},
   "outputs": [
    {
     "name": "stdout",
     "output_type": "stream",
     "text": [
      "usage: cfr [-h] [-v] {da,graphem} ...\n",
      "\n",
      "========================================================================================\n",
      " cfr: a scripting system for CFR (Feng Zhu, fengzhu@ucar.edu)\n",
      "----------------------------------------------------------------------------------------\n",
      " Usage example for DA:\n",
      "    cfr da -c config.yml -vb -s 1 2 -r\n",
      "    # -c config.yml: run the reconstruction job according to config.yml\n",
      "    # -vb: output the verbose runtime information\n",
      "    # -s 1 2: set seeds as integers from 1 to 2\n",
      "    # -r: run the Monte-Carlo iterations for PDA\n",
      "\n",
      " Usage example for GraphEM:\n",
      "    cfr graphem -c config.yml -vb\n",
      "    # -c config.yml: run the reconstruction job according to config.yml\n",
      "    # -vb: output the verbose runtime information\n",
      "========================================================================================\n",
      "            \n",
      "\n",
      "positional arguments:\n",
      "  {da,graphem}   running mode\n",
      "    da           run a DA-based reconstruction\n",
      "    graphem      run a GraphEM-based reconstruction\n",
      "\n",
      "optional arguments:\n",
      "  -h, --help     show this help message and exit\n",
      "  -v, --version  show program's version number and exit\n"
     ]
    }
   ],
   "source": [
    "!cfr -h"
   ]
  },
  {
   "cell_type": "code",
   "execution_count": 9,
   "metadata": {},
   "outputs": [
    {
     "name": "stdout",
     "output_type": "stream",
     "text": [
      "\u001b[36m\u001b[1m>>> Settings seeds: [1, 2]\n",
      "\u001b[0m\u001b[32m\u001b[1m>>> job.configs loaded\n",
      "\u001b[0m{'allownan': False,\n",
      " 'annualize_proxydb_months': [12, 1, 2],\n",
      " 'annualize_proxydb_ptypes': ['coral'],\n",
      " 'assim_frac': 0.75,\n",
      " 'compress_params': {'zlib': True},\n",
      " 'filter_proxydb_args': [],\n",
      " 'filter_proxydb_kwargs': {'by': 'ptype', 'keys': ['coral.SrCa']},\n",
      " 'nens': 100,\n",
      " 'obs_anom_period': [1951, 1980],\n",
      " 'obs_lat_name': 'lat',\n",
      " 'obs_lon_name': 'lon',\n",
      " 'obs_path': {'tas': 'gistemp1200_GHCNv4_ERSSTv5'},\n",
      " 'obs_rename_dict': {'tas': 'tempanomaly'},\n",
      " 'obs_time_name': 'time',\n",
      " 'output_full_ens': False,\n",
      " 'output_indices': ['gm', 'nhm', 'shm', 'nino3.4'],\n",
      " 'prior_annualize_months': [12, 1, 2],\n",
      " 'prior_anom_period': [1951, 1980],\n",
      " 'prior_lat_max': 35,\n",
      " 'prior_lat_min': -35,\n",
      " 'prior_lat_name': 'lat',\n",
      " 'prior_lon_max': 360,\n",
      " 'prior_lon_min': 0,\n",
      " 'prior_lon_name': 'lon',\n",
      " 'prior_path': {'tas': 'iCESM_past1000historical/tas'},\n",
      " 'prior_regrid_nlat': 42,\n",
      " 'prior_regrid_nlon': 63,\n",
      " 'prior_time_name': 'time',\n",
      " 'proxy_assim_frac': 0.75,\n",
      " 'proxydb_path': 'PAGES2kv2',\n",
      " 'psm_calib_period': [1850, 2015],\n",
      " 'ptype_psm_dict': {'coral.SrCa': 'Linear',\n",
      "                    'coral.calc': 'Linear',\n",
      "                    'coral.d18O': 'Linear'},\n",
      " 'ptype_season_dict': {'coral.SrCa': [12, 1, 2],\n",
      "                       'coral.calc': [12, 1, 2],\n",
      "                       'coral.d18O': [12, 1, 2]},\n",
      " 'recon_loc_rad': 25000,\n",
      " 'recon_period': [0, 2000],\n",
      " 'recon_sampling_mode': 'fixed',\n",
      " 'recon_seeds': [1, 2],\n",
      " 'recon_timescale': 1,\n",
      " 'recon_vars': ['tas'],\n",
      " 'save_dirpath': './recons/test-run-da-cfg',\n",
      " 'trim_prior': True}\n",
      "\u001b[36m\u001b[1m>>> job.configs[\"proxydb_path\"] = PAGES2kv2\n",
      "\u001b[0m\u001b[32m\u001b[1m>>> 692 records loaded\n",
      "\u001b[0m\u001b[32m\u001b[1m>>> job.proxydb created\n",
      "\u001b[0m\u001b[36m\u001b[1m>>> job.configs[\"filter_proxydb_args\"] = []\n",
      "\u001b[0m\u001b[36m\u001b[1m>>> job.configs[\"filter_proxydb_kwargs\"] = {'by': 'ptype', 'keys': ['coral.SrCa']}\n",
      "\u001b[0m\u001b[32m\u001b[1m>>> 29 records remaining\n",
      "\u001b[0m\u001b[32m\u001b[1m>>> job.proxydb updated\n",
      "Annualizing ProxyDatabase: 100%|████████████████| 29/29 [00:00<00:00, 47.82it/s]\n",
      "\u001b[36m\u001b[1m>>> job.configs[\"prior_path\"] = {'tas': 'iCESM_past1000historical/tas'}\n",
      "\u001b[0m\u001b[36m\u001b[1m>>> job.configs[\"prior_anom_period\"] = [1951, 1980]\n",
      "\u001b[0m\u001b[90m\u001b[1m>>> The target file seems existed at: ./data/tas_sfc_Amon_iCESM_past1000historical_085001-200512.nc . Loading from it instead of downloading ...\n",
      "\u001b[0m\u001b[32m\u001b[1m>>> prior variables ['tas'] loaded\n",
      "\u001b[0m\u001b[32m\u001b[1m>>> job.prior created\n",
      "\u001b[0m\u001b[36m\u001b[1m>>> job.configs[\"obs_path\"] = {'tas': 'gistemp1200_GHCNv4_ERSSTv5'}\n",
      "\u001b[0m\u001b[36m\u001b[1m>>> job.configs[\"obs_rename_dict\"] = {'tas': 'tempanomaly'}\n",
      "\u001b[0m\u001b[36m\u001b[1m>>> job.configs[\"obs_anom_period\"] = [1951, 1980]\n",
      "\u001b[0m\u001b[90m\u001b[1m>>> The target file seems existed at: ./data/gistemp1200_GHCNv4_ERSSTv5.nc.gz . Loading from it instead of downloading ...\n",
      "\u001b[0m\u001b[32m\u001b[1m>>> obs variables ['tas'] loaded\n",
      "\u001b[0m\u001b[32m\u001b[1m>>> job.obs created\n",
      "\u001b[0m\u001b[36m\u001b[1m>>> job.configs[\"ptype_psm_dict\"] = {'coral.SrCa': 'Linear', 'coral.calc': 'Linear', 'coral.d18O': 'Linear'}\n",
      "\u001b[0m\u001b[36m\u001b[1m>>> job.configs[\"ptype_season_dict\"] = {'coral.SrCa': [12, 1, 2], 'coral.calc': [12, 1, 2], 'coral.d18O': [12, 1, 2]}\n",
      "Calibrating the PSMs:  10%|██▎                   | 3/29 [00:00<00:00, 27.55it/s]The number of overlapped data points is 22 < 25. Skipping ...\n",
      "The number of overlapped data points is 24 < 25. Skipping ...\n",
      "Calibrating the PSMs:  45%|█████████▍           | 13/29 [00:00<00:00, 43.49it/s]The number of overlapped data points is 22 < 25. Skipping ...\n",
      "Calibrating the PSMs:  62%|█████████████        | 18/29 [00:00<00:00, 45.23it/s]The number of overlapped data points is 21 < 25. Skipping ...\n",
      "Calibrating the PSMs: 100%|█████████████████████| 29/29 [00:00<00:00, 44.81it/s]\n",
      "\u001b[33m\u001b[1m>>> PSM for Ocn_150 failed to be calibrated.\n",
      "\u001b[0m\u001b[33m\u001b[1m>>> PSM for Ocn_152 failed to be calibrated.\n",
      "\u001b[0m\u001b[33m\u001b[1m>>> PSM for Ocn_165 failed to be calibrated.\n",
      "\u001b[0m\u001b[33m\u001b[1m>>> PSM for Ocn_183 failed to be calibrated.\n",
      "\u001b[0m\u001b[32m\u001b[1m>>> 25 records tagged \"calibrated\" with ProxyRecord.psm created\n",
      "Forwarding the PSMs: 100%|██████████████████████| 25/25 [00:03<00:00,  8.01it/s]\n",
      "\u001b[32m\u001b[1m>>> ProxyRecord.pseudo created for 25 records\n",
      "\u001b[0m\u001b[36m\u001b[1m>>> job.configs[\"prior_annualize_months\"] = [12, 1, 2]\n",
      "\u001b[0m\u001b[36m\u001b[1m>>> Processing tas ...\n",
      "\u001b[0m\u001b[32m\u001b[1m>>> job.prior updated\n",
      "\u001b[0m\u001b[36m\u001b[1m>>> job.configs[\"prior_regrid_nlat\"] = 42\n",
      "\u001b[0m\u001b[36m\u001b[1m>>> job.configs[\"prior_regrid_nlon\"] = 63\n",
      "\u001b[0m\u001b[36m\u001b[1m>>> Processing tas ...\n",
      "\u001b[0m\u001b[36m\u001b[1m>>> job.configs[\"prior_lat_min\"] = -35\n",
      "\u001b[0m\u001b[36m\u001b[1m>>> job.configs[\"prior_lat_max\"] = 35\n",
      "\u001b[0m\u001b[36m\u001b[1m>>> job.configs[\"prior_lon_min\"] = 0\n",
      "\u001b[0m\u001b[36m\u001b[1m>>> job.configs[\"prior_lon_max\"] = 360\n",
      "\u001b[0m\u001b[36m\u001b[1m>>> Processing tas ...\n",
      "\u001b[0m\u001b[36m\u001b[1m>>> job.configs[\"save_dirpath\"] = ./recons/test-run-da-cfg\n",
      "\u001b[0m\u001b[32m\u001b[1m>>> job.configs saved to: ./recons/test-run-da-cfg/configs.yml\n",
      "\u001b[0m\u001b[32m\u001b[1m>>> DONE! Total time used: 0.30 mins.\n",
      "\u001b[0m\u001b[36m\u001b[1m>>> job.configs[\"recon_period\"] = [0, 2000]\n",
      "\u001b[0m\u001b[36m\u001b[1m>>> job.configs[\"recon_loc_rad\"] = 25000\n",
      "\u001b[0m\u001b[36m\u001b[1m>>> job.configs[\"recon_timescale\"] = 1\n",
      "\u001b[0m\u001b[36m\u001b[1m>>> job.configs[\"recon_seeds\"] = [1, 2]\n",
      "\u001b[0m\u001b[36m\u001b[1m>>> job.configs[\"assim_frac\"] = 0.75\n",
      "\u001b[0m\u001b[36m\u001b[1m>>> job.configs[\"compress_params\"] = {'zlib': True}\n",
      "\u001b[0m\u001b[36m\u001b[1m>>> job.configs[\"output_full_ens\"] = False\n",
      "\u001b[0m\u001b[36m\u001b[1m>>> seed: 1 | max: 2\n",
      "KF updating: 100%|█████████████████████████| 2001/2001 [00:02<00:00, 756.88it/s]\n",
      "\u001b[32m\u001b[1m>>> Reconstructed fields saved to: ./recons/test-run-da-cfg/job_r01_recon.nc\n",
      "\u001b[0m\u001b[36m\u001b[1m>>> seed: 2 | max: 2\n",
      "KF updating: 100%|█████████████████████████| 2001/2001 [00:03<00:00, 579.64it/s]\n",
      "\u001b[32m\u001b[1m>>> Reconstructed fields saved to: ./recons/test-run-da-cfg/job_r02_recon.nc\n",
      "\u001b[0m\u001b[32m\u001b[1m>>> DONE! Total time spent: 0.27 mins.\n",
      "\u001b[0m"
     ]
    }
   ],
   "source": [
    "!cfr da -c ./recons/test-run-da-cfg/configs.yml -vb -s 1 2 -r"
   ]
  },
  {
   "cell_type": "code",
   "execution_count": null,
   "metadata": {},
   "outputs": [],
   "source": []
  }
 ],
 "metadata": {
  "kernelspec": {
   "display_name": "cfr-env",
   "language": "python",
   "name": "python3"
  },
  "language_info": {
   "codemirror_mode": {
    "name": "ipython",
    "version": 3
   },
   "file_extension": ".py",
   "mimetype": "text/x-python",
   "name": "python",
   "nbconvert_exporter": "python",
   "pygments_lexer": "ipython3",
   "version": "3.9.16"
  },
  "orig_nbformat": 4
 },
 "nbformat": 4,
 "nbformat_minor": 2
}
