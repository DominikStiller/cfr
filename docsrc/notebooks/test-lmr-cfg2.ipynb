{
 "cells": [
  {
   "cell_type": "code",
   "execution_count": 1,
   "metadata": {},
   "outputs": [],
   "source": [
    "%load_ext autoreload\n",
    "%autoreload 2\n",
    "\n",
    "import os\n",
    "import cfr\n",
    "os.chdir('/glade/u/home/fengzhu/Github/cfr/docsrc/notebooks')"
   ]
  },
  {
   "cell_type": "code",
   "execution_count": 3,
   "metadata": {},
   "outputs": [
    {
     "name": "stdout",
     "output_type": "stream",
     "text": [
      "\u001b[32m\u001b[1m>>> job.configs loaded\n",
      "\u001b[0m{'allownan': False,\n",
      " 'annualize_proxydb_months': [1, 2, 3, 4, 5, 6, 7, 8, 9, 10, 11, 12],\n",
      " 'annualize_proxydb_ptypes': ['coral'],\n",
      " 'assim_frac': 0.75,\n",
      " 'compress_params': {'zlib': True},\n",
      " 'filter_proxydb_args': [],\n",
      " 'filter_proxydb_kwargs': {'by': 'ptype',\n",
      "                           'keys': ['coral', 'tree', 'ice', 'lake']},\n",
      " 'nens': 100,\n",
      " 'obs_anom_period': [1951, 1980],\n",
      " 'obs_lat_name': 'lat',\n",
      " 'obs_lon_name': 'lon',\n",
      " 'obs_path': {'pr': '20CRv3/pr', 'tas': 'gistemp1200_GHCNv4_ERSSTv5'},\n",
      " 'obs_rename_dict': {'pr': 'prate', 'tas': 'tempanomaly'},\n",
      " 'obs_time_name': 'time',\n",
      " 'output_full_ens': False,\n",
      " 'output_indices': ['gm',\n",
      "                    'nhm',\n",
      "                    'shm',\n",
      "                    'nino3.4',\n",
      "                    'nino1+2',\n",
      "                    'nino3',\n",
      "                    'nino4',\n",
      "                    'tpi',\n",
      "                    'wpi',\n",
      "                    'dmi',\n",
      "                    'iobw'],\n",
      " 'prior_annualize_months': [1, 2, 3, 4, 5, 6, 7, 8, 9, 10, 11, 12],\n",
      " 'prior_anom_period': [1951, 1980],\n",
      " 'prior_lat_max': 35,\n",
      " 'prior_lat_min': -35,\n",
      " 'prior_lat_name': 'lat',\n",
      " 'prior_lon_max': 360,\n",
      " 'prior_lon_min': 0,\n",
      " 'prior_lon_name': 'lon',\n",
      " 'prior_path': {'pr': 'iCESM_past1000historical/pr',\n",
      "                'tas': 'iCESM_past1000historical/tas'},\n",
      " 'prior_regrid_nlat': 42,\n",
      " 'prior_regrid_nlon': 63,\n",
      " 'prior_time_name': 'time',\n",
      " 'proxydb_path': 'PAGES2kv2',\n",
      " 'psm_calib_period': [1850, 2015],\n",
      " 'ptype_clim_dict': {'coral.SrCa': ['tas'],\n",
      "                     'coral.calc': ['tas'],\n",
      "                     'coral.d18O': ['tas'],\n",
      "                     'ice.d18O': ['tas'],\n",
      "                     'ice.dD': ['tas'],\n",
      "                     'ice.melt': ['tas'],\n",
      "                     'lake.BSi': ['tas'],\n",
      "                     'lake.TEX86': ['tas'],\n",
      "                     'lake.accumulation': ['tas'],\n",
      "                     'lake.alkenone': ['tas'],\n",
      "                     'lake.chironomid': ['tas'],\n",
      "                     'lake.chrysophyte': ['tas'],\n",
      "                     'lake.midge': ['tas'],\n",
      "                     'lake.pollen': ['tas'],\n",
      "                     'lake.reflectance': ['tas'],\n",
      "                     'lake.varve_property': ['tas'],\n",
      "                     'lake.varve_thickness': ['tas'],\n",
      "                     'tree.MXD': ['tas'],\n",
      "                     'tree.TRW': ['tas', 'pr']},\n",
      " 'ptype_forward_dict': {},\n",
      " 'ptype_psm_dict': {'coral.SrCa': 'Linear',\n",
      "                    'coral.calc': 'Linear',\n",
      "                    'coral.d18O': 'Linear',\n",
      "                    'ice.d18O': 'Linear',\n",
      "                    'ice.dD': 'Linear',\n",
      "                    'ice.melt': 'Linear',\n",
      "                    'lake.BSi': 'Linear',\n",
      "                    'lake.TEX86': 'Linear',\n",
      "                    'lake.accumulation': 'Linear',\n",
      "                    'lake.alkenone': 'Linear',\n",
      "                    'lake.chironomid': 'Linear',\n",
      "                    'lake.chrysophyte': 'Linear',\n",
      "                    'lake.midge': 'Linear',\n",
      "                    'lake.pollen': 'Linear',\n",
      "                    'lake.reflectance': 'Linear',\n",
      "                    'lake.varve_property': 'Linear',\n",
      "                    'lake.varve_thickness': 'Linear',\n",
      "                    'tree.MXD': 'Linear',\n",
      "                    'tree.TRW': 'Bilinear'},\n",
      " 'ptype_season_dict': {'coral.SrCa': [1, 2, 3, 4, 5, 6, 7, 8, 9, 10, 11, 12],\n",
      "                       'coral.calc': [1, 2, 3, 4, 5, 6, 7, 8, 9, 10, 11, 12],\n",
      "                       'coral.d18O': [1, 2, 3, 4, 5, 6, 7, 8, 9, 10, 11, 12],\n",
      "                       'ice.d18O': [1, 2, 3, 4, 5, 6, 7, 8, 9, 10, 11, 12],\n",
      "                       'ice.dD': [1, 2, 3, 4, 5, 6, 7, 8, 9, 10, 11, 12],\n",
      "                       'ice.melt': [1, 2, 3, 4, 5, 6, 7, 8, 9, 10, 11, 12],\n",
      "                       'lake.BSi': [1, 2, 3, 4, 5, 6, 7, 8, 9, 10, 11, 12],\n",
      "                       'lake.TEX86': [1, 2, 3, 4, 5, 6, 7, 8, 9, 10, 11, 12],\n",
      "                       'lake.accumulation': [1,\n",
      "                                             2,\n",
      "                                             3,\n",
      "                                             4,\n",
      "                                             5,\n",
      "                                             6,\n",
      "                                             7,\n",
      "                                             8,\n",
      "                                             9,\n",
      "                                             10,\n",
      "                                             11,\n",
      "                                             12],\n",
      "                       'lake.alkenone': [1, 2, 3, 4, 5, 6, 7, 8, 9, 10, 11, 12],\n",
      "                       'lake.chironomid': [1,\n",
      "                                           2,\n",
      "                                           3,\n",
      "                                           4,\n",
      "                                           5,\n",
      "                                           6,\n",
      "                                           7,\n",
      "                                           8,\n",
      "                                           9,\n",
      "                                           10,\n",
      "                                           11,\n",
      "                                           12],\n",
      "                       'lake.chrysophyte': [1,\n",
      "                                            2,\n",
      "                                            3,\n",
      "                                            4,\n",
      "                                            5,\n",
      "                                            6,\n",
      "                                            7,\n",
      "                                            8,\n",
      "                                            9,\n",
      "                                            10,\n",
      "                                            11,\n",
      "                                            12],\n",
      "                       'lake.midge': [1, 2, 3, 4, 5, 6, 7, 8, 9, 10, 11, 12],\n",
      "                       'lake.pollen': [1, 2, 3, 4, 5, 6, 7, 8, 9, 10, 11, 12],\n",
      "                       'lake.reflectance': [1,\n",
      "                                            2,\n",
      "                                            3,\n",
      "                                            4,\n",
      "                                            5,\n",
      "                                            6,\n",
      "                                            7,\n",
      "                                            8,\n",
      "                                            9,\n",
      "                                            10,\n",
      "                                            11,\n",
      "                                            12],\n",
      "                       'lake.varve_property': [1,\n",
      "                                               2,\n",
      "                                               3,\n",
      "                                               4,\n",
      "                                               5,\n",
      "                                               6,\n",
      "                                               7,\n",
      "                                               8,\n",
      "                                               9,\n",
      "                                               10,\n",
      "                                               11,\n",
      "                                               12],\n",
      "                       'lake.varve_thickness': [1,\n",
      "                                                2,\n",
      "                                                3,\n",
      "                                                4,\n",
      "                                                5,\n",
      "                                                6,\n",
      "                                                7,\n",
      "                                                8,\n",
      "                                                9,\n",
      "                                                10,\n",
      "                                                11,\n",
      "                                                12],\n",
      "                       'tree.MXD': [1, 2, 3, 4, 5, 6, 7, 8, 9, 10, 11, 12],\n",
      "                       'tree.TRW': [1, 2, 3, 4, 5, 6, 7, 8, 9, 10, 11, 12]},\n",
      " 'recon_loc_rad': 25000,\n",
      " 'recon_period': [0, 2000],\n",
      " 'recon_sampling_mode': 'fixed',\n",
      " 'recon_seeds': [1, 2, 3, 4, 5, 6, 7, 8, 9, 10, 11, 12],\n",
      " 'recon_timescale': 1,\n",
      " 'recon_vars': ['tas'],\n",
      " 'save_dirpath': './recons/test-run-da-cfg',\n",
      " 'trim_prior': True}\n",
      "\u001b[36m\u001b[1m>>> job.configs[\"proxydb_path\"] = PAGES2kv2\n",
      "\u001b[0m\u001b[32m\u001b[1m>>> 692 records loaded\n",
      "\u001b[0m\u001b[32m\u001b[1m>>> job.proxydb created\n",
      "\u001b[0m\u001b[36m\u001b[1m>>> job.configs[\"filter_proxydb_args\"] = []\n",
      "\u001b[0m\u001b[36m\u001b[1m>>> job.configs[\"filter_proxydb_kwargs\"] = {'by': 'ptype', 'keys': ['coral', 'tree', 'ice', 'lake']}\n",
      "\u001b[0m\u001b[32m\u001b[1m>>> 610 records remaining\n",
      "\u001b[0m\u001b[32m\u001b[1m>>> job.proxydb updated\n",
      "\u001b[0m"
     ]
    },
    {
     "name": "stderr",
     "output_type": "stream",
     "text": [
      "Annualizing ProxyDatabase: 100%|██████████| 104/104 [00:03<00:00, 26.91it/s]\n"
     ]
    },
    {
     "name": "stdout",
     "output_type": "stream",
     "text": [
      "\u001b[36m\u001b[1m>>> job.configs[\"prior_path\"] = {'pr': 'iCESM_past1000historical/pr', 'tas': 'iCESM_past1000historical/tas'}\n",
      "\u001b[0m\u001b[36m\u001b[1m>>> job.configs[\"prior_anom_period\"] = [1951, 1980]\n",
      "\u001b[0m\u001b[90m\u001b[1m>>> The target file seems existed at: ./data/pr_sfc_Amon_iCESM_past1000historical_085001-200512.nc . Loading from it instead of downloading ...\n",
      "\u001b[0m\u001b[90m\u001b[1m>>> The target file seems existed at: ./data/tas_sfc_Amon_iCESM_past1000historical_085001-200512.nc . Loading from it instead of downloading ...\n",
      "\u001b[0m\u001b[32m\u001b[1m>>> prior variables ['pr', 'tas'] loaded\n",
      "\u001b[0m\u001b[32m\u001b[1m>>> job.prior created\n",
      "\u001b[0m\u001b[36m\u001b[1m>>> job.configs[\"obs_path\"] = {'pr': '20CRv3/pr', 'tas': 'gistemp1200_GHCNv4_ERSSTv5'}\n",
      "\u001b[0m\u001b[36m\u001b[1m>>> job.configs[\"obs_rename_dict\"] = {'pr': 'prate', 'tas': 'tempanomaly'}\n",
      "\u001b[0m\u001b[36m\u001b[1m>>> job.configs[\"obs_anom_period\"] = [1951, 1980]\n",
      "\u001b[0m\u001b[90m\u001b[1m>>> The target file seems existed at: ./data/prate.mon.mean.nc . Loading from it instead of downloading ...\n",
      "\u001b[0m\u001b[90m\u001b[1m>>> The target file seems existed at: ./data/gistemp1200_GHCNv4_ERSSTv5.nc.gz . Loading from it instead of downloading ...\n",
      "\u001b[0m\u001b[32m\u001b[1m>>> obs variables ['pr', 'tas'] loaded\n",
      "\u001b[0m\u001b[32m\u001b[1m>>> job.obs created\n",
      "\u001b[0m\u001b[36m\u001b[1m>>> job.configs[\"ptype_psm_dict\"] = {'tree.TRW': 'Bilinear', 'lake.accumulation': 'Linear', 'lake.reflectance': 'Linear', 'lake.BSi': 'Linear', 'lake.chrysophyte': 'Linear', 'ice.d18O': 'Linear', 'coral.SrCa': 'Linear', 'coral.calc': 'Linear', 'lake.midge': 'Linear', 'lake.TEX86': 'Linear', 'coral.d18O': 'Linear', 'lake.alkenone': 'Linear', 'lake.pollen': 'Linear', 'lake.varve_property': 'Linear', 'ice.dD': 'Linear', 'lake.chironomid': 'Linear', 'tree.MXD': 'Linear', 'lake.varve_thickness': 'Linear', 'ice.melt': 'Linear'}\n",
      "\u001b[0m\u001b[36m\u001b[1m>>> job.configs[\"ptype_season_dict\"] = {'tree.TRW': [1, 2, 3, 4, 5, 6, 7, 8, 9, 10, 11, 12], 'lake.accumulation': [1, 2, 3, 4, 5, 6, 7, 8, 9, 10, 11, 12], 'lake.reflectance': [1, 2, 3, 4, 5, 6, 7, 8, 9, 10, 11, 12], 'lake.BSi': [1, 2, 3, 4, 5, 6, 7, 8, 9, 10, 11, 12], 'lake.chrysophyte': [1, 2, 3, 4, 5, 6, 7, 8, 9, 10, 11, 12], 'ice.d18O': [1, 2, 3, 4, 5, 6, 7, 8, 9, 10, 11, 12], 'coral.SrCa': [1, 2, 3, 4, 5, 6, 7, 8, 9, 10, 11, 12], 'coral.calc': [1, 2, 3, 4, 5, 6, 7, 8, 9, 10, 11, 12], 'lake.midge': [1, 2, 3, 4, 5, 6, 7, 8, 9, 10, 11, 12], 'lake.TEX86': [1, 2, 3, 4, 5, 6, 7, 8, 9, 10, 11, 12], 'coral.d18O': [1, 2, 3, 4, 5, 6, 7, 8, 9, 10, 11, 12], 'lake.alkenone': [1, 2, 3, 4, 5, 6, 7, 8, 9, 10, 11, 12], 'lake.pollen': [1, 2, 3, 4, 5, 6, 7, 8, 9, 10, 11, 12], 'lake.varve_property': [1, 2, 3, 4, 5, 6, 7, 8, 9, 10, 11, 12], 'ice.dD': [1, 2, 3, 4, 5, 6, 7, 8, 9, 10, 11, 12], 'lake.chironomid': [1, 2, 3, 4, 5, 6, 7, 8, 9, 10, 11, 12], 'tree.MXD': [1, 2, 3, 4, 5, 6, 7, 8, 9, 10, 11, 12], 'lake.varve_thickness': [1, 2, 3, 4, 5, 6, 7, 8, 9, 10, 11, 12], 'ice.melt': [1, 2, 3, 4, 5, 6, 7, 8, 9, 10, 11, 12]}\n",
      "\u001b[0m\u001b[36m\u001b[1m>>> job.configs[\"ptype_clim_dict\"] = {'tree.TRW': ['tas', 'pr'], 'lake.accumulation': ['tas'], 'lake.reflectance': ['tas'], 'lake.BSi': ['tas'], 'lake.chrysophyte': ['tas'], 'ice.d18O': ['tas'], 'coral.SrCa': ['tas'], 'coral.calc': ['tas'], 'lake.midge': ['tas'], 'lake.TEX86': ['tas'], 'coral.d18O': ['tas'], 'lake.alkenone': ['tas'], 'lake.pollen': ['tas'], 'lake.varve_property': ['tas'], 'ice.dD': ['tas'], 'lake.chironomid': ['tas'], 'tree.MXD': ['tas'], 'lake.varve_thickness': ['tas'], 'ice.melt': ['tas']}\n",
      "\u001b[0m"
     ]
    },
    {
     "name": "stderr",
     "output_type": "stream",
     "text": [
      "Calibrating the PSMs:   3%|▎         | 18/610 [00:00<00:19, 30.95it/s]"
     ]
    },
    {
     "name": "stdout",
     "output_type": "stream",
     "text": [
      "The number of overlapped data points is 14 < 25. Skipping ...\n",
      "The number of overlapped data points is 20 < 25. Skipping ...\n",
      "The number of overlapped data points is 22 < 25. Skipping ...\n"
     ]
    },
    {
     "name": "stderr",
     "output_type": "stream",
     "text": [
      "Calibrating the PSMs:   5%|▍         | 30/610 [00:00<00:18, 31.06it/s]"
     ]
    },
    {
     "name": "stdout",
     "output_type": "stream",
     "text": [
      "The number of overlapped data points is 9 < 25. Skipping ...\n",
      "The number of overlapped data points is 24 < 25. Skipping ...\n"
     ]
    },
    {
     "name": "stderr",
     "output_type": "stream",
     "text": [
      "Calibrating the PSMs:  10%|▉         | 58/610 [00:01<00:17, 31.34it/s]"
     ]
    },
    {
     "name": "stdout",
     "output_type": "stream",
     "text": [
      "The number of overlapped data points is 22 < 25. Skipping ...\n",
      "The number of overlapped data points is 22 < 25. Skipping ...\n",
      "The number of overlapped data points is 0 < 25. Skipping ...\n"
     ]
    },
    {
     "name": "stderr",
     "output_type": "stream",
     "text": [
      "Calibrating the PSMs:  13%|█▎        | 82/610 [00:02<00:17, 30.34it/s]"
     ]
    },
    {
     "name": "stdout",
     "output_type": "stream",
     "text": [
      "The number of overlapped data points is 21 < 25. Skipping ...\n"
     ]
    },
    {
     "name": "stderr",
     "output_type": "stream",
     "text": [
      "Calibrating the PSMs:  18%|█▊        | 111/610 [00:04<00:24, 20.22it/s]/glade/u/home/fengzhu/Github/cfr/cfr/psm.py:116: UserWarning: You are merging on int and float columns where the float values are not equal to their int representation.\n",
      "  df = df_proxy.dropna().merge(df_exog.dropna(), how='inner', on='time')\n",
      "Calibrating the PSMs:  19%|█▉        | 115/610 [00:04<00:23, 21.43it/s]"
     ]
    },
    {
     "name": "stdout",
     "output_type": "stream",
     "text": [
      "The number of overlapped data points is 0 < 25. Skipping ...\n"
     ]
    },
    {
     "name": "stderr",
     "output_type": "stream",
     "text": [
      "/glade/u/home/fengzhu/Github/cfr/cfr/psm.py:116: UserWarning: You are merging on int and float columns where the float values are not equal to their int representation.\n",
      "  df = df_proxy.dropna().merge(df_exog.dropna(), how='inner', on='time')\n",
      "Calibrating the PSMs:  19%|█▉        | 118/610 [00:04<00:24, 20.27it/s]"
     ]
    },
    {
     "name": "stdout",
     "output_type": "stream",
     "text": [
      "The number of overlapped data points is 0 < 25. Skipping ...\n"
     ]
    },
    {
     "name": "stderr",
     "output_type": "stream",
     "text": [
      "Calibrating the PSMs:  20%|█▉        | 121/610 [00:04<00:24, 19.61it/s]/glade/u/home/fengzhu/Github/cfr/cfr/psm.py:116: UserWarning: You are merging on int and float columns where the float values are not equal to their int representation.\n",
      "  df = df_proxy.dropna().merge(df_exog.dropna(), how='inner', on='time')\n",
      "Calibrating the PSMs:  21%|██        | 126/610 [00:04<00:26, 18.18it/s]"
     ]
    },
    {
     "name": "stdout",
     "output_type": "stream",
     "text": [
      "The number of overlapped data points is 0 < 25. Skipping ...\n"
     ]
    },
    {
     "name": "stderr",
     "output_type": "stream",
     "text": [
      "Calibrating the PSMs:  23%|██▎       | 139/610 [00:05<00:28, 16.76it/s]"
     ]
    },
    {
     "name": "stdout",
     "output_type": "stream",
     "text": [
      "The number of overlapped data points is 9 < 25. Skipping ...\n"
     ]
    },
    {
     "name": "stderr",
     "output_type": "stream",
     "text": [
      "Calibrating the PSMs:  24%|██▍       | 146/610 [00:06<00:28, 16.50it/s]/glade/u/home/fengzhu/Github/cfr/cfr/psm.py:116: UserWarning: You are merging on int and float columns where the float values are not equal to their int representation.\n",
      "  df = df_proxy.dropna().merge(df_exog.dropna(), how='inner', on='time')\n",
      "Calibrating the PSMs:  24%|██▍       | 148/610 [00:06<00:26, 17.27it/s]"
     ]
    },
    {
     "name": "stdout",
     "output_type": "stream",
     "text": [
      "The number of overlapped data points is 0 < 25. Skipping ...\n"
     ]
    },
    {
     "name": "stderr",
     "output_type": "stream",
     "text": [
      "Calibrating the PSMs:  25%|██▌       | 155/610 [00:06<00:24, 18.84it/s]"
     ]
    },
    {
     "name": "stdout",
     "output_type": "stream",
     "text": [
      "The number of overlapped data points is 12 < 25. Skipping ...\n"
     ]
    },
    {
     "name": "stderr",
     "output_type": "stream",
     "text": [
      "Calibrating the PSMs:  28%|██▊       | 169/610 [00:07<00:29, 15.07it/s]/glade/u/home/fengzhu/Github/cfr/cfr/psm.py:116: UserWarning: You are merging on int and float columns where the float values are not equal to their int representation.\n",
      "  df = df_proxy.dropna().merge(df_exog.dropna(), how='inner', on='time')\n",
      "Calibrating the PSMs:  29%|██▊       | 174/610 [00:07<00:24, 18.12it/s]"
     ]
    },
    {
     "name": "stdout",
     "output_type": "stream",
     "text": [
      "The number of overlapped data points is 0 < 25. Skipping ...\n"
     ]
    },
    {
     "name": "stderr",
     "output_type": "stream",
     "text": [
      "Calibrating the PSMs:  32%|███▏      | 197/610 [00:08<00:22, 18.70it/s]/glade/u/home/fengzhu/Github/cfr/cfr/psm.py:116: UserWarning: You are merging on int and float columns where the float values are not equal to their int representation.\n",
      "  df = df_proxy.dropna().merge(df_exog.dropna(), how='inner', on='time')\n",
      "Calibrating the PSMs:  33%|███▎      | 202/610 [00:09<00:23, 17.50it/s]"
     ]
    },
    {
     "name": "stdout",
     "output_type": "stream",
     "text": [
      "The number of overlapped data points is 1 < 25. Skipping ...\n"
     ]
    },
    {
     "name": "stderr",
     "output_type": "stream",
     "text": [
      "Calibrating the PSMs:  34%|███▍      | 210/610 [00:09<00:26, 15.36it/s]/glade/u/home/fengzhu/Github/cfr/cfr/psm.py:116: UserWarning: You are merging on int and float columns where the float values are not equal to their int representation.\n",
      "  df = df_proxy.dropna().merge(df_exog.dropna(), how='inner', on='time')\n",
      "Calibrating the PSMs:  35%|███▌      | 215/610 [00:10<00:24, 16.11it/s]"
     ]
    },
    {
     "name": "stdout",
     "output_type": "stream",
     "text": [
      "The number of overlapped data points is 8 < 25. Skipping ...\n"
     ]
    },
    {
     "name": "stderr",
     "output_type": "stream",
     "text": [
      "/glade/u/home/fengzhu/Github/cfr/cfr/psm.py:116: UserWarning: You are merging on int and float columns where the float values are not equal to their int representation.\n",
      "  df = df_proxy.dropna().merge(df_exog.dropna(), how='inner', on='time')\n",
      "Calibrating the PSMs:  36%|███▌      | 218/610 [00:10<00:21, 18.05it/s]"
     ]
    },
    {
     "name": "stdout",
     "output_type": "stream",
     "text": [
      "The number of overlapped data points is 0 < 25. Skipping ...\n"
     ]
    },
    {
     "name": "stderr",
     "output_type": "stream",
     "text": [
      "Calibrating the PSMs:  36%|███▌      | 220/610 [00:10<00:22, 17.05it/s]/glade/u/home/fengzhu/Github/cfr/cfr/psm.py:116: UserWarning: You are merging on int and float columns where the float values are not equal to their int representation.\n",
      "  df = df_proxy.dropna().merge(df_exog.dropna(), how='inner', on='time')\n",
      "Calibrating the PSMs:  37%|███▋      | 223/610 [00:10<00:22, 17.39it/s]"
     ]
    },
    {
     "name": "stdout",
     "output_type": "stream",
     "text": [
      "The number of overlapped data points is 0 < 25. Skipping ...\n"
     ]
    },
    {
     "name": "stderr",
     "output_type": "stream",
     "text": [
      "Calibrating the PSMs:  42%|████▏     | 254/610 [00:12<00:18, 18.84it/s]"
     ]
    },
    {
     "name": "stdout",
     "output_type": "stream",
     "text": [
      "The number of overlapped data points is 0 < 25. Skipping ...\n",
      "The number of overlapped data points is 21 < 25. Skipping ...\n"
     ]
    },
    {
     "name": "stderr",
     "output_type": "stream",
     "text": [
      "Calibrating the PSMs:  43%|████▎     | 262/610 [00:12<00:18, 19.02it/s]"
     ]
    },
    {
     "name": "stdout",
     "output_type": "stream",
     "text": [
      "The number of overlapped data points is 6 < 25. Skipping ...\n",
      "The number of overlapped data points is 6 < 25. Skipping ...\n"
     ]
    },
    {
     "name": "stderr",
     "output_type": "stream",
     "text": [
      "Calibrating the PSMs:  48%|████▊     | 292/610 [00:14<00:16, 19.22it/s]"
     ]
    },
    {
     "name": "stdout",
     "output_type": "stream",
     "text": [
      "The number of overlapped data points is 6 < 25. Skipping ...\n",
      "The number of overlapped data points is 18 < 25. Skipping ...\n"
     ]
    },
    {
     "name": "stderr",
     "output_type": "stream",
     "text": [
      "Calibrating the PSMs:  51%|█████▏    | 313/610 [00:15<00:15, 18.59it/s]"
     ]
    },
    {
     "name": "stdout",
     "output_type": "stream",
     "text": [
      "The number of overlapped data points is 5 < 25. Skipping ...\n"
     ]
    },
    {
     "name": "stderr",
     "output_type": "stream",
     "text": [
      "Calibrating the PSMs:  52%|█████▏    | 315/610 [00:15<00:17, 17.22it/s]/glade/u/home/fengzhu/Github/cfr/cfr/psm.py:116: UserWarning: You are merging on int and float columns where the float values are not equal to their int representation.\n",
      "  df = df_proxy.dropna().merge(df_exog.dropna(), how='inner', on='time')\n",
      "Calibrating the PSMs:  52%|█████▏    | 318/610 [00:15<00:15, 18.87it/s]"
     ]
    },
    {
     "name": "stdout",
     "output_type": "stream",
     "text": [
      "The number of overlapped data points is 11 < 25. Skipping ...\n",
      "The number of overlapped data points is 6 < 25. Skipping ...\n"
     ]
    },
    {
     "name": "stderr",
     "output_type": "stream",
     "text": [
      "Calibrating the PSMs:  53%|█████▎    | 324/610 [00:16<00:14, 19.30it/s]"
     ]
    },
    {
     "name": "stdout",
     "output_type": "stream",
     "text": [
      "The number of overlapped data points is 9 < 25. Skipping ...\n"
     ]
    },
    {
     "name": "stderr",
     "output_type": "stream",
     "text": [
      "Calibrating the PSMs:  54%|█████▍    | 330/610 [00:16<00:16, 16.86it/s]/glade/u/home/fengzhu/Github/cfr/cfr/psm.py:116: UserWarning: You are merging on int and float columns where the float values are not equal to their int representation.\n",
      "  df = df_proxy.dropna().merge(df_exog.dropna(), how='inner', on='time')\n",
      "Calibrating the PSMs:  54%|█████▍    | 332/610 [00:16<00:15, 17.59it/s]"
     ]
    },
    {
     "name": "stdout",
     "output_type": "stream",
     "text": [
      "The number of overlapped data points is 0 < 25. Skipping ...\n"
     ]
    },
    {
     "name": "stderr",
     "output_type": "stream",
     "text": [
      "Calibrating the PSMs:  56%|█████▌    | 342/610 [00:17<00:13, 19.98it/s]"
     ]
    },
    {
     "name": "stdout",
     "output_type": "stream",
     "text": [
      "The number of overlapped data points is 6 < 25. Skipping ...\n"
     ]
    },
    {
     "name": "stderr",
     "output_type": "stream",
     "text": [
      "Calibrating the PSMs:  57%|█████▋    | 350/610 [00:17<00:13, 19.14it/s]"
     ]
    },
    {
     "name": "stdout",
     "output_type": "stream",
     "text": [
      "The number of overlapped data points is 19 < 25. Skipping ...\n"
     ]
    },
    {
     "name": "stderr",
     "output_type": "stream",
     "text": [
      "/glade/u/home/fengzhu/Github/cfr/cfr/psm.py:116: UserWarning: You are merging on int and float columns where the float values are not equal to their int representation.\n",
      "  df = df_proxy.dropna().merge(df_exog.dropna(), how='inner', on='time')\n",
      "/glade/u/home/fengzhu/Github/cfr/cfr/psm.py:116: UserWarning: You are merging on int and float columns where the float values are not equal to their int representation.\n",
      "  df = df_proxy.dropna().merge(df_exog.dropna(), how='inner', on='time')\n",
      "Calibrating the PSMs:  64%|██████▍   | 389/610 [00:19<00:13, 16.51it/s]/glade/u/home/fengzhu/Github/cfr/cfr/psm.py:116: UserWarning: You are merging on int and float columns where the float values are not equal to their int representation.\n",
      "  df = df_proxy.dropna().merge(df_exog.dropna(), how='inner', on='time')\n",
      "Calibrating the PSMs:  64%|██████▍   | 392/610 [00:19<00:11, 18.66it/s]/glade/u/home/fengzhu/Github/cfr/cfr/psm.py:116: UserWarning: You are merging on int and float columns where the float values are not equal to their int representation.\n",
      "  df = df_proxy.dropna().merge(df_exog.dropna(), how='inner', on='time')\n"
     ]
    },
    {
     "name": "stdout",
     "output_type": "stream",
     "text": [
      "The number of overlapped data points is 3 < 25. Skipping ...\n",
      "The number of overlapped data points is 0 < 25. Skipping ...\n",
      "The number of overlapped data points is 5 < 25. Skipping ...\n",
      "The number of overlapped data points is 0 < 25. Skipping ...\n"
     ]
    },
    {
     "name": "stderr",
     "output_type": "stream",
     "text": [
      "Calibrating the PSMs:  66%|██████▌   | 400/610 [00:20<00:11, 18.38it/s]/glade/u/home/fengzhu/Github/cfr/cfr/psm.py:116: UserWarning: You are merging on int and float columns where the float values are not equal to their int representation.\n",
      "  df = df_proxy.dropna().merge(df_exog.dropna(), how='inner', on='time')\n",
      "/glade/u/home/fengzhu/Github/cfr/cfr/psm.py:116: UserWarning: You are merging on int and float columns where the float values are not equal to their int representation.\n",
      "  df = df_proxy.dropna().merge(df_exog.dropna(), how='inner', on='time')\n",
      "Calibrating the PSMs:  66%|██████▌   | 403/610 [00:20<00:10, 19.90it/s]/glade/u/home/fengzhu/Github/cfr/cfr/psm.py:116: UserWarning: You are merging on int and float columns where the float values are not equal to their int representation.\n",
      "  df = df_proxy.dropna().merge(df_exog.dropna(), how='inner', on='time')\n",
      "Calibrating the PSMs:  67%|██████▋   | 406/610 [00:20<00:10, 19.19it/s]"
     ]
    },
    {
     "name": "stdout",
     "output_type": "stream",
     "text": [
      "The number of overlapped data points is 0 < 25. Skipping ...\n",
      "The number of overlapped data points is 0 < 25. Skipping ...\n",
      "The number of overlapped data points is 0 < 25. Skipping ...\n"
     ]
    },
    {
     "name": "stderr",
     "output_type": "stream",
     "text": [
      "/glade/u/home/fengzhu/Github/cfr/cfr/psm.py:116: UserWarning: You are merging on int and float columns where the float values are not equal to their int representation.\n",
      "  df = df_proxy.dropna().merge(df_exog.dropna(), how='inner', on='time')\n",
      "Calibrating the PSMs:  67%|██████▋   | 409/610 [00:20<00:10, 18.84it/s]"
     ]
    },
    {
     "name": "stdout",
     "output_type": "stream",
     "text": [
      "The number of overlapped data points is 0 < 25. Skipping ...\n"
     ]
    },
    {
     "name": "stderr",
     "output_type": "stream",
     "text": [
      "Calibrating the PSMs:  71%|███████   | 434/610 [00:22<00:09, 18.89it/s]/glade/u/home/fengzhu/Github/cfr/cfr/psm.py:116: UserWarning: You are merging on int and float columns where the float values are not equal to their int representation.\n",
      "  df = df_proxy.dropna().merge(df_exog.dropna(), how='inner', on='time')\n",
      "Calibrating the PSMs:  72%|███████▏  | 437/610 [00:22<00:09, 18.52it/s]"
     ]
    },
    {
     "name": "stdout",
     "output_type": "stream",
     "text": [
      "The number of overlapped data points is 0 < 25. Skipping ...\n"
     ]
    },
    {
     "name": "stderr",
     "output_type": "stream",
     "text": [
      "Calibrating the PSMs:  74%|███████▍  | 450/610 [00:23<00:08, 18.04it/s]"
     ]
    },
    {
     "name": "stdout",
     "output_type": "stream",
     "text": [
      "The number of overlapped data points is 5 < 25. Skipping ...\n"
     ]
    },
    {
     "name": "stderr",
     "output_type": "stream",
     "text": [
      "Calibrating the PSMs:  77%|███████▋  | 472/610 [00:24<00:08, 15.82it/s]/glade/u/home/fengzhu/Github/cfr/cfr/psm.py:116: UserWarning: You are merging on int and float columns where the float values are not equal to their int representation.\n",
      "  df = df_proxy.dropna().merge(df_exog.dropna(), how='inner', on='time')\n",
      "Calibrating the PSMs:  78%|███████▊  | 475/610 [00:24<00:08, 16.81it/s]"
     ]
    },
    {
     "name": "stdout",
     "output_type": "stream",
     "text": [
      "The number of overlapped data points is 8 < 25. Skipping ...\n"
     ]
    },
    {
     "name": "stderr",
     "output_type": "stream",
     "text": [
      "Calibrating the PSMs:  81%|████████  | 493/610 [00:25<00:07, 16.27it/s]/glade/u/home/fengzhu/Github/cfr/cfr/psm.py:116: UserWarning: You are merging on int and float columns where the float values are not equal to their int representation.\n",
      "  df = df_proxy.dropna().merge(df_exog.dropna(), how='inner', on='time')\n",
      "Calibrating the PSMs:  81%|████████▏ | 497/610 [00:25<00:05, 18.96it/s]"
     ]
    },
    {
     "name": "stdout",
     "output_type": "stream",
     "text": [
      "The number of overlapped data points is 2 < 25. Skipping ...\n"
     ]
    },
    {
     "name": "stderr",
     "output_type": "stream",
     "text": [
      "Calibrating the PSMs:  84%|████████▍ | 514/610 [00:26<00:05, 17.80it/s]/glade/u/home/fengzhu/Github/cfr/cfr/psm.py:116: UserWarning: You are merging on int and float columns where the float values are not equal to their int representation.\n",
      "  df = df_proxy.dropna().merge(df_exog.dropna(), how='inner', on='time')\n",
      "Calibrating the PSMs:  85%|████████▌ | 519/610 [00:27<00:05, 17.25it/s]"
     ]
    },
    {
     "name": "stdout",
     "output_type": "stream",
     "text": [
      "The number of overlapped data points is 2 < 25. Skipping ...\n"
     ]
    },
    {
     "name": "stderr",
     "output_type": "stream",
     "text": [
      "Calibrating the PSMs:  88%|████████▊ | 535/610 [00:28<00:04, 15.08it/s]/glade/u/home/fengzhu/Github/cfr/cfr/psm.py:116: UserWarning: You are merging on int and float columns where the float values are not equal to their int representation.\n",
      "  df = df_proxy.dropna().merge(df_exog.dropna(), how='inner', on='time')\n",
      "Calibrating the PSMs:  88%|████████▊ | 538/610 [00:28<00:04, 17.53it/s]/glade/u/home/fengzhu/Github/cfr/cfr/psm.py:116: UserWarning: You are merging on int and float columns where the float values are not equal to their int representation.\n",
      "  df = df_proxy.dropna().merge(df_exog.dropna(), how='inner', on='time')\n",
      "Calibrating the PSMs:  89%|████████▊ | 541/610 [00:28<00:03, 19.21it/s]"
     ]
    },
    {
     "name": "stdout",
     "output_type": "stream",
     "text": [
      "The number of overlapped data points is 0 < 25. Skipping ...\n",
      "The number of overlapped data points is 0 < 25. Skipping ...\n"
     ]
    },
    {
     "name": "stderr",
     "output_type": "stream",
     "text": [
      "Calibrating the PSMs:  90%|█████████ | 552/610 [00:29<00:03, 17.89it/s]/glade/u/home/fengzhu/Github/cfr/cfr/psm.py:116: UserWarning: You are merging on int and float columns where the float values are not equal to their int representation.\n",
      "  df = df_proxy.dropna().merge(df_exog.dropna(), how='inner', on='time')\n",
      "Calibrating the PSMs:  91%|█████████ | 555/610 [00:29<00:03, 18.04it/s]"
     ]
    },
    {
     "name": "stdout",
     "output_type": "stream",
     "text": [
      "The number of overlapped data points is 1 < 25. Skipping ...\n"
     ]
    },
    {
     "name": "stderr",
     "output_type": "stream",
     "text": [
      "Calibrating the PSMs:  96%|█████████▌| 587/610 [00:31<00:01, 17.87it/s]"
     ]
    },
    {
     "name": "stdout",
     "output_type": "stream",
     "text": [
      "The number of overlapped data points is 9 < 25. Skipping ...\n"
     ]
    },
    {
     "name": "stderr",
     "output_type": "stream",
     "text": [
      "Calibrating the PSMs: 100%|█████████▉| 608/610 [00:32<00:00, 17.95it/s]"
     ]
    },
    {
     "name": "stdout",
     "output_type": "stream",
     "text": [
      "The number of overlapped data points is 10 < 25. Skipping ...\n"
     ]
    },
    {
     "name": "stderr",
     "output_type": "stream",
     "text": [
      "Calibrating the PSMs: 100%|██████████| 610/610 [00:32<00:00, 18.71it/s]\n"
     ]
    },
    {
     "name": "stdout",
     "output_type": "stream",
     "text": [
      "The number of overlapped data points is 0 < 25. Skipping ...\n",
      "\u001b[33m\u001b[1m>>> PSM for Ocn_144 failed to be calibrated.\n",
      "\u001b[0m\u001b[33m\u001b[1m>>> PSM for Ocn_149 failed to be calibrated.\n",
      "\u001b[0m\u001b[33m\u001b[1m>>> PSM for Ocn_150 failed to be calibrated.\n",
      "\u001b[0m\u001b[33m\u001b[1m>>> PSM for Ocn_145 failed to be calibrated.\n",
      "\u001b[0m\u001b[33m\u001b[1m>>> PSM for Ocn_152 failed to be calibrated.\n",
      "\u001b[0m\u001b[33m\u001b[1m>>> PSM for Ocn_164 failed to be calibrated.\n",
      "\u001b[0m\u001b[33m\u001b[1m>>> PSM for Ocn_165 failed to be calibrated.\n",
      "\u001b[0m\u001b[33m\u001b[1m>>> PSM for Ocn_138 failed to be calibrated.\n",
      "\u001b[0m\u001b[33m\u001b[1m>>> PSM for Ocn_183 failed to be calibrated.\n",
      "\u001b[0m\u001b[33m\u001b[1m>>> PSM for Arc_070 failed to be calibrated.\n",
      "\u001b[0m\u001b[33m\u001b[1m>>> PSM for Ant_023 failed to be calibrated.\n",
      "\u001b[0m\u001b[33m\u001b[1m>>> PSM for Arc_042 failed to be calibrated.\n",
      "\u001b[0m\u001b[33m\u001b[1m>>> PSM for NAm_073 failed to be calibrated.\n",
      "\u001b[0m\u001b[33m\u001b[1m>>> PSM for Ant_024 failed to be calibrated.\n",
      "\u001b[0m\u001b[33m\u001b[1m>>> PSM for NAm_068 failed to be calibrated.\n",
      "\u001b[0m\u001b[33m\u001b[1m>>> PSM for Asi_243 failed to be calibrated.\n",
      "\u001b[0m\u001b[33m\u001b[1m>>> PSM for Arc_050 failed to be calibrated.\n",
      "\u001b[0m\u001b[33m\u001b[1m>>> PSM for Eur_012 failed to be calibrated.\n",
      "\u001b[0m\u001b[33m\u001b[1m>>> PSM for Arc_043 failed to be calibrated.\n",
      "\u001b[0m\u001b[33m\u001b[1m>>> PSM for Ant_022 failed to be calibrated.\n",
      "\u001b[0m\u001b[33m\u001b[1m>>> PSM for Arc_026 failed to be calibrated.\n",
      "\u001b[0m\u001b[33m\u001b[1m>>> PSM for Arc_059 failed to be calibrated.\n",
      "\u001b[0m\u001b[33m\u001b[1m>>> PSM for NAm_076 failed to be calibrated.\n",
      "\u001b[0m\u001b[33m\u001b[1m>>> PSM for NAm_077 failed to be calibrated.\n",
      "\u001b[0m\u001b[33m\u001b[1m>>> PSM for NAm_069 failed to be calibrated.\n",
      "\u001b[0m\u001b[33m\u001b[1m>>> PSM for Arc_069 failed to be calibrated.\n",
      "\u001b[0m\u001b[33m\u001b[1m>>> PSM for Arc_053 failed to be calibrated.\n",
      "\u001b[0m\u001b[33m\u001b[1m>>> PSM for NAm_075 failed to be calibrated.\n",
      "\u001b[0m\u001b[33m\u001b[1m>>> PSM for NAm_080 failed to be calibrated.\n",
      "\u001b[0m\u001b[33m\u001b[1m>>> PSM for Afr_005 failed to be calibrated.\n",
      "\u001b[0m\u001b[33m\u001b[1m>>> PSM for Arc_054 failed to be calibrated.\n",
      "\u001b[0m\u001b[33m\u001b[1m>>> PSM for NAm_065 failed to be calibrated.\n",
      "\u001b[0m\u001b[33m\u001b[1m>>> PSM for Arc_044 failed to be calibrated.\n",
      "\u001b[0m\u001b[33m\u001b[1m>>> PSM for NAm_067 failed to be calibrated.\n",
      "\u001b[0m\u001b[33m\u001b[1m>>> PSM for Ant_013 failed to be calibrated.\n",
      "\u001b[0m\u001b[33m\u001b[1m>>> PSM for Arc_045 failed to be calibrated.\n",
      "\u001b[0m\u001b[33m\u001b[1m>>> PSM for Asi_238 failed to be calibrated.\n",
      "\u001b[0m\u001b[33m\u001b[1m>>> PSM for Arc_067 failed to be calibrated.\n",
      "\u001b[0m\u001b[33m\u001b[1m>>> PSM for Arc_051 failed to be calibrated.\n",
      "\u001b[0m\u001b[33m\u001b[1m>>> PSM for Ant_016 failed to be calibrated.\n",
      "\u001b[0m\u001b[33m\u001b[1m>>> PSM for Ant_015 failed to be calibrated.\n",
      "\u001b[0m\u001b[33m\u001b[1m>>> PSM for Ant_008 failed to be calibrated.\n",
      "\u001b[0m\u001b[33m\u001b[1m>>> PSM for NAm_078 failed to be calibrated.\n",
      "\u001b[0m\u001b[33m\u001b[1m>>> PSM for Asi_231 failed to be calibrated.\n",
      "\u001b[0m\u001b[33m\u001b[1m>>> PSM for Arc_040 failed to be calibrated.\n",
      "\u001b[0m\u001b[33m\u001b[1m>>> PSM for Ant_019 failed to be calibrated.\n",
      "\u001b[0m\u001b[33m\u001b[1m>>> PSM for Aus_029 failed to be calibrated.\n",
      "\u001b[0m\u001b[33m\u001b[1m>>> PSM for Ant_014 failed to be calibrated.\n",
      "\u001b[0m\u001b[33m\u001b[1m>>> PSM for Arc_041 failed to be calibrated.\n",
      "\u001b[0m\u001b[33m\u001b[1m>>> PSM for Afr_004 failed to be calibrated.\n",
      "\u001b[0m\u001b[33m\u001b[1m>>> PSM for NAm_074 failed to be calibrated.\n",
      "\u001b[0m\u001b[33m\u001b[1m>>> PSM for Arc_014 failed to be calibrated.\n",
      "\u001b[0m\u001b[32m\u001b[1m>>> 558 records tagged \"calibrated\" with ProxyRecord.psm created\n",
      "\u001b[0m\u001b[36m\u001b[1m>>> job.configs[\"ptype_forward_dict\"] = {}\n",
      "\u001b[0m"
     ]
    },
    {
     "name": "stderr",
     "output_type": "stream",
     "text": [
      "Forwarding the PSMs: 100%|██████████| 558/558 [02:43<00:00,  3.41it/s]\n"
     ]
    },
    {
     "name": "stdout",
     "output_type": "stream",
     "text": [
      "\u001b[32m\u001b[1m>>> ProxyRecord.pseudo created for 558 records\n",
      "\u001b[0m\u001b[36m\u001b[1m>>> job.configs[\"prior_annualize_months\"] = [1, 2, 3, 4, 5, 6, 7, 8, 9, 10, 11, 12]\n",
      "\u001b[0m\u001b[36m\u001b[1m>>> Processing pr ...\n",
      "\u001b[0m\u001b[36m\u001b[1m>>> Processing tas ...\n",
      "\u001b[0m\u001b[32m\u001b[1m>>> job.prior updated\n",
      "\u001b[0m\u001b[36m\u001b[1m>>> job.configs[\"prior_regrid_nlat\"] = 42\n",
      "\u001b[0m\u001b[36m\u001b[1m>>> job.configs[\"prior_regrid_nlon\"] = 63\n",
      "\u001b[0m\u001b[36m\u001b[1m>>> Processing pr ...\n",
      "\u001b[0m\u001b[36m\u001b[1m>>> Processing tas ...\n",
      "\u001b[0m\u001b[36m\u001b[1m>>> job.configs[\"prior_lat_min\"] = -35\n",
      "\u001b[0m\u001b[36m\u001b[1m>>> job.configs[\"prior_lat_max\"] = 35\n",
      "\u001b[0m\u001b[36m\u001b[1m>>> job.configs[\"prior_lon_min\"] = 0\n",
      "\u001b[0m\u001b[36m\u001b[1m>>> job.configs[\"prior_lon_max\"] = 360\n",
      "\u001b[0m\u001b[36m\u001b[1m>>> Processing pr ...\n",
      "\u001b[0m\u001b[36m\u001b[1m>>> Processing tas ...\n",
      "\u001b[0m\u001b[36m\u001b[1m>>> job.configs[\"save_dirpath\"] = ./recons/test-run-da-cfg\n",
      "\u001b[0m\u001b[32m\u001b[1m>>> job.configs saved to: ./recons/test-run-da-cfg/configs.yml\n",
      "\u001b[0m\u001b[32m\u001b[1m>>> DONE! Total time used: 3.64 mins.\n",
      "\u001b[0m\u001b[36m\u001b[1m>>> job.configs[\"recon_period\"] = [0, 2000]\n",
      "\u001b[0m\u001b[36m\u001b[1m>>> job.configs[\"recon_loc_rad\"] = 25000\n",
      "\u001b[0m\u001b[36m\u001b[1m>>> job.configs[\"recon_timescale\"] = 1\n",
      "\u001b[0m\u001b[36m\u001b[1m>>> job.configs[\"assim_frac\"] = 0.75\n",
      "\u001b[0m\u001b[36m\u001b[1m>>> job.configs[\"compress_params\"] = {'zlib': True}\n",
      "\u001b[0m\u001b[36m\u001b[1m>>> job.configs[\"output_full_ens\"] = False\n",
      "\u001b[0m\u001b[36m\u001b[1m>>> seed: 1 | max: 12\n",
      "\u001b[0m"
     ]
    },
    {
     "name": "stderr",
     "output_type": "stream",
     "text": [
      "KF updating: 100%|██████████| 2001/2001 [08:08<00:00,  4.10it/s]\n"
     ]
    },
    {
     "name": "stdout",
     "output_type": "stream",
     "text": [
      "\u001b[32m\u001b[1m>>> Reconstructed fields saved to: ./recons/test-run-da-cfg/job_r01_recon.nc\n",
      "\u001b[0m\u001b[36m\u001b[1m>>> seed: 2 | max: 12\n",
      "\u001b[0m"
     ]
    },
    {
     "name": "stderr",
     "output_type": "stream",
     "text": [
      "KF updating:  17%|█▋        | 343/2001 [00:18<01:28, 18.79it/s]\n"
     ]
    },
    {
     "ename": "KeyboardInterrupt",
     "evalue": "",
     "output_type": "error",
     "traceback": [
      "\u001b[0;31m---------------------------------------------------------------------------\u001b[0m",
      "\u001b[0;31mKeyboardInterrupt\u001b[0m                         Traceback (most recent call last)",
      "Cell \u001b[0;32mIn[3], line 2\u001b[0m\n\u001b[1;32m      1\u001b[0m job \u001b[38;5;241m=\u001b[39m cfr\u001b[38;5;241m.\u001b[39mReconJob()\n\u001b[0;32m----> 2\u001b[0m \u001b[43mjob\u001b[49m\u001b[38;5;241;43m.\u001b[39;49m\u001b[43mrun_da_cfg\u001b[49m\u001b[43m(\u001b[49m\u001b[38;5;124;43m'\u001b[39;49m\u001b[38;5;124;43m./data/configs_test.yml\u001b[39;49m\u001b[38;5;124;43m'\u001b[39;49m\u001b[43m,\u001b[49m\u001b[43m \u001b[49m\u001b[43mverbose\u001b[49m\u001b[38;5;241;43m=\u001b[39;49m\u001b[38;5;28;43;01mTrue\u001b[39;49;00m\u001b[43m)\u001b[49m\n",
      "File \u001b[0;32m~/Github/cfr/cfr/reconjob.py:1178\u001b[0m, in \u001b[0;36mReconJob.run_da_cfg\u001b[0;34m(self, cfg_path, load_precalculated, seeds, run_mc, verbose)\u001b[0m\n\u001b[1;32m   1176\u001b[0m \u001b[38;5;66;03m# run the Monte-Carlo iterations\u001b[39;00m\n\u001b[1;32m   1177\u001b[0m \u001b[38;5;28;01mif\u001b[39;00m run_mc:\n\u001b[0;32m-> 1178\u001b[0m     \u001b[43mjob\u001b[49m\u001b[38;5;241;43m.\u001b[39;49m\u001b[43mrun_da_mc\u001b[49m\u001b[43m(\u001b[49m\n\u001b[1;32m   1179\u001b[0m \u001b[43m        \u001b[49m\u001b[43mrecon_period\u001b[49m\u001b[38;5;241;43m=\u001b[39;49m\u001b[43mjob\u001b[49m\u001b[38;5;241;43m.\u001b[39;49m\u001b[43mconfigs\u001b[49m\u001b[43m[\u001b[49m\u001b[38;5;124;43m'\u001b[39;49m\u001b[38;5;124;43mrecon_period\u001b[39;49m\u001b[38;5;124;43m'\u001b[39;49m\u001b[43m]\u001b[49m\u001b[43m,\u001b[49m\n\u001b[1;32m   1180\u001b[0m \u001b[43m        \u001b[49m\u001b[43mrecon_loc_rad\u001b[49m\u001b[38;5;241;43m=\u001b[39;49m\u001b[43mjob\u001b[49m\u001b[38;5;241;43m.\u001b[39;49m\u001b[43mconfigs\u001b[49m\u001b[43m[\u001b[49m\u001b[38;5;124;43m'\u001b[39;49m\u001b[38;5;124;43mrecon_loc_rad\u001b[39;49m\u001b[38;5;124;43m'\u001b[39;49m\u001b[43m]\u001b[49m\u001b[43m,\u001b[49m\n\u001b[1;32m   1181\u001b[0m \u001b[43m        \u001b[49m\u001b[43mrecon_timescale\u001b[49m\u001b[38;5;241;43m=\u001b[39;49m\u001b[43mjob\u001b[49m\u001b[38;5;241;43m.\u001b[39;49m\u001b[43mconfigs\u001b[49m\u001b[43m[\u001b[49m\u001b[38;5;124;43m'\u001b[39;49m\u001b[38;5;124;43mrecon_timescale\u001b[39;49m\u001b[38;5;124;43m'\u001b[39;49m\u001b[43m]\u001b[49m\u001b[43m,\u001b[49m\n\u001b[1;32m   1182\u001b[0m \u001b[43m        \u001b[49m\u001b[43mrecon_seeds\u001b[49m\u001b[38;5;241;43m=\u001b[39;49m\u001b[43mseeds\u001b[49m\u001b[43m,\u001b[49m\n\u001b[1;32m   1183\u001b[0m \u001b[43m        \u001b[49m\u001b[43massim_frac\u001b[49m\u001b[38;5;241;43m=\u001b[39;49m\u001b[43mjob\u001b[49m\u001b[38;5;241;43m.\u001b[39;49m\u001b[43mconfigs\u001b[49m\u001b[43m[\u001b[49m\u001b[38;5;124;43m'\u001b[39;49m\u001b[38;5;124;43massim_frac\u001b[39;49m\u001b[38;5;124;43m'\u001b[39;49m\u001b[43m]\u001b[49m\u001b[43m,\u001b[49m\n\u001b[1;32m   1184\u001b[0m \u001b[43m        \u001b[49m\u001b[43mcompress_params\u001b[49m\u001b[38;5;241;43m=\u001b[39;49m\u001b[43mjob\u001b[49m\u001b[38;5;241;43m.\u001b[39;49m\u001b[43mconfigs\u001b[49m\u001b[43m[\u001b[49m\u001b[38;5;124;43m'\u001b[39;49m\u001b[38;5;124;43mcompress_params\u001b[39;49m\u001b[38;5;124;43m'\u001b[39;49m\u001b[43m]\u001b[49m\u001b[43m,\u001b[49m\n\u001b[1;32m   1185\u001b[0m \u001b[43m        \u001b[49m\u001b[43moutput_full_ens\u001b[49m\u001b[38;5;241;43m=\u001b[39;49m\u001b[43mjob\u001b[49m\u001b[38;5;241;43m.\u001b[39;49m\u001b[43mconfigs\u001b[49m\u001b[43m[\u001b[49m\u001b[38;5;124;43m'\u001b[39;49m\u001b[38;5;124;43moutput_full_ens\u001b[39;49m\u001b[38;5;124;43m'\u001b[39;49m\u001b[43m]\u001b[49m\u001b[43m,\u001b[49m\n\u001b[1;32m   1186\u001b[0m \u001b[43m        \u001b[49m\u001b[43moutput_indices\u001b[49m\u001b[38;5;241;43m=\u001b[39;49m\u001b[43mjob\u001b[49m\u001b[38;5;241;43m.\u001b[39;49m\u001b[43mconfigs\u001b[49m\u001b[43m[\u001b[49m\u001b[38;5;124;43m'\u001b[39;49m\u001b[38;5;124;43moutput_indices\u001b[39;49m\u001b[38;5;124;43m'\u001b[39;49m\u001b[43m]\u001b[49m\u001b[43m,\u001b[49m\n\u001b[1;32m   1187\u001b[0m \u001b[43m        \u001b[49m\u001b[43mverbose\u001b[49m\u001b[38;5;241;43m=\u001b[39;49m\u001b[43mverbose\u001b[49m\u001b[43m,\u001b[49m\n\u001b[1;32m   1188\u001b[0m \u001b[43m    \u001b[49m\u001b[43m)\u001b[49m\n",
      "File \u001b[0;32m~/Github/cfr/cfr/reconjob.py:621\u001b[0m, in \u001b[0;36mReconJob.run_da_mc\u001b[0;34m(self, recon_period, recon_loc_rad, recon_timescale, nens, output_full_ens, recon_sampling_mode, recon_sampling_dist, recon_vars, normal_sampling_sigma, normal_sampling_cutoff_factor, trim_prior, recon_seeds, assim_frac, save_dirpath, compress_params, allownan, output_indices, verbose)\u001b[0m\n\u001b[1;32m    618\u001b[0m \u001b[38;5;28;01mif\u001b[39;00m verbose: p_header(\u001b[38;5;124mf\u001b[39m\u001b[38;5;124m'\u001b[39m\u001b[38;5;124m>>> seed: \u001b[39m\u001b[38;5;132;01m{\u001b[39;00mseed\u001b[38;5;132;01m}\u001b[39;00m\u001b[38;5;124m | max: \u001b[39m\u001b[38;5;132;01m{\u001b[39;00mrecon_seeds[\u001b[38;5;241m-\u001b[39m\u001b[38;5;241m1\u001b[39m]\u001b[38;5;132;01m}\u001b[39;00m\u001b[38;5;124m'\u001b[39m)\n\u001b[1;32m    620\u001b[0m \u001b[38;5;28mself\u001b[39m\u001b[38;5;241m.\u001b[39msplit_proxydb(seed\u001b[38;5;241m=\u001b[39mseed, assim_frac\u001b[38;5;241m=\u001b[39massim_frac, verbose\u001b[38;5;241m=\u001b[39m\u001b[38;5;28;01mFalse\u001b[39;00m)\n\u001b[0;32m--> 621\u001b[0m \u001b[38;5;28;43mself\u001b[39;49m\u001b[38;5;241;43m.\u001b[39;49m\u001b[43mrun_da\u001b[49m\u001b[43m(\u001b[49m\u001b[43mrecon_period\u001b[49m\u001b[38;5;241;43m=\u001b[39;49m\u001b[43mrecon_period\u001b[49m\u001b[43m,\u001b[49m\u001b[43m \u001b[49m\u001b[43mrecon_loc_rad\u001b[49m\u001b[38;5;241;43m=\u001b[39;49m\u001b[43mrecon_loc_rad\u001b[49m\u001b[43m,\u001b[49m\u001b[43m \u001b[49m\u001b[43mnens\u001b[49m\u001b[38;5;241;43m=\u001b[39;49m\u001b[43mnens\u001b[49m\u001b[43m,\u001b[49m\n\u001b[1;32m    622\u001b[0m \u001b[43m            \u001b[49m\u001b[43mtrim_prior\u001b[49m\u001b[38;5;241;43m=\u001b[39;49m\u001b[43mtrim_prior\u001b[49m\u001b[43m,\u001b[49m\n\u001b[1;32m    623\u001b[0m \u001b[43m            \u001b[49m\u001b[43mrecon_sampling_mode\u001b[49m\u001b[38;5;241;43m=\u001b[39;49m\u001b[43mrecon_sampling_mode\u001b[49m\u001b[43m,\u001b[49m\n\u001b[1;32m    624\u001b[0m \u001b[43m            \u001b[49m\u001b[43mrecon_sampling_dist\u001b[49m\u001b[38;5;241;43m=\u001b[39;49m\u001b[43mrecon_sampling_dist\u001b[49m\u001b[43m,\u001b[49m\n\u001b[1;32m    625\u001b[0m \u001b[43m            \u001b[49m\u001b[43mnormal_sampling_sigma\u001b[49m\u001b[38;5;241;43m=\u001b[39;49m\u001b[43mnormal_sampling_sigma\u001b[49m\u001b[43m,\u001b[49m\n\u001b[1;32m    626\u001b[0m \u001b[43m            \u001b[49m\u001b[43mnormal_sampling_cutoff_factor\u001b[49m\u001b[38;5;241;43m=\u001b[39;49m\u001b[43mnormal_sampling_cutoff_factor\u001b[49m\u001b[43m,\u001b[49m\n\u001b[1;32m    627\u001b[0m \u001b[43m            \u001b[49m\u001b[43mrecon_timescale\u001b[49m\u001b[38;5;241;43m=\u001b[39;49m\u001b[43mrecon_timescale\u001b[49m\u001b[43m,\u001b[49m\u001b[43m \u001b[49m\u001b[43mseed\u001b[49m\u001b[38;5;241;43m=\u001b[39;49m\u001b[43mseed\u001b[49m\u001b[43m,\u001b[49m\n\u001b[1;32m    628\u001b[0m \u001b[43m            \u001b[49m\u001b[43mallownan\u001b[49m\u001b[38;5;241;43m=\u001b[39;49m\u001b[43mallownan\u001b[49m\u001b[43m,\u001b[49m\u001b[43m \u001b[49m\u001b[43mverbose\u001b[49m\u001b[38;5;241;43m=\u001b[39;49m\u001b[38;5;28;43;01mFalse\u001b[39;49;00m\u001b[43m)\u001b[49m\n\u001b[1;32m    630\u001b[0m recon_savepath \u001b[38;5;241m=\u001b[39m os\u001b[38;5;241m.\u001b[39mpath\u001b[38;5;241m.\u001b[39mjoin(save_dirpath, \u001b[38;5;124mf\u001b[39m\u001b[38;5;124m'\u001b[39m\u001b[38;5;124mjob_r\u001b[39m\u001b[38;5;132;01m{\u001b[39;00mseed\u001b[38;5;132;01m:\u001b[39;00m\u001b[38;5;124m02d\u001b[39m\u001b[38;5;132;01m}\u001b[39;00m\u001b[38;5;124m_recon.nc\u001b[39m\u001b[38;5;124m'\u001b[39m)\n\u001b[1;32m    631\u001b[0m \u001b[38;5;28mself\u001b[39m\u001b[38;5;241m.\u001b[39msave_recon(recon_savepath, compress_params\u001b[38;5;241m=\u001b[39mcompress_params, mark_assim_pids\u001b[38;5;241m=\u001b[39m\u001b[38;5;28;01mTrue\u001b[39;00m,\n\u001b[1;32m    632\u001b[0m                 verbose\u001b[38;5;241m=\u001b[39mverbose, output_full_ens\u001b[38;5;241m=\u001b[39moutput_full_ens, grid\u001b[38;5;241m=\u001b[39m\u001b[38;5;124m'\u001b[39m\u001b[38;5;124mprior\u001b[39m\u001b[38;5;124m'\u001b[39m, output_indices\u001b[38;5;241m=\u001b[39moutput_indices)\n",
      "File \u001b[0;32m~/Github/cfr/cfr/reconjob.py:546\u001b[0m, in \u001b[0;36mReconJob.run_da\u001b[0;34m(self, recon_period, recon_loc_rad, recon_timescale, recon_sampling_mode, recon_sampling_dist, recon_vars, normal_sampling_sigma, normal_sampling_cutoff_factor, trim_prior, nens, seed, verbose, debug, allownan)\u001b[0m\n\u001b[1;32m    543\u001b[0m recon_yrs \u001b[38;5;241m=\u001b[39m np\u001b[38;5;241m.\u001b[39marange(recon_period[\u001b[38;5;241m0\u001b[39m], recon_period[\u001b[38;5;241m-\u001b[39m\u001b[38;5;241m1\u001b[39m]\u001b[38;5;241m+\u001b[39m\u001b[38;5;241m1\u001b[39m, recon_timescale)\n\u001b[1;32m    545\u001b[0m \u001b[38;5;28mself\u001b[39m\u001b[38;5;241m.\u001b[39mda_solver \u001b[38;5;241m=\u001b[39m da\u001b[38;5;241m.\u001b[39mEnKF(\u001b[38;5;28mself\u001b[39m\u001b[38;5;241m.\u001b[39mprior, \u001b[38;5;28mself\u001b[39m\u001b[38;5;241m.\u001b[39mproxydb, recon_vars\u001b[38;5;241m=\u001b[39mrecon_vars, nens\u001b[38;5;241m=\u001b[39mnens, seed\u001b[38;5;241m=\u001b[39mseed)\n\u001b[0;32m--> 546\u001b[0m \u001b[38;5;28;43mself\u001b[39;49m\u001b[38;5;241;43m.\u001b[39;49m\u001b[43mda_solver\u001b[49m\u001b[38;5;241;43m.\u001b[39;49m\u001b[43mrun\u001b[49m\u001b[43m(\u001b[49m\n\u001b[1;32m    547\u001b[0m \u001b[43m    \u001b[49m\u001b[43mrecon_yrs\u001b[49m\u001b[38;5;241;43m=\u001b[39;49m\u001b[43mrecon_yrs\u001b[49m\u001b[43m,\u001b[49m\n\u001b[1;32m    548\u001b[0m \u001b[43m    \u001b[49m\u001b[43mrecon_loc_rad\u001b[49m\u001b[38;5;241;43m=\u001b[39;49m\u001b[43mrecon_loc_rad\u001b[49m\u001b[43m,\u001b[49m\n\u001b[1;32m    549\u001b[0m \u001b[43m    \u001b[49m\u001b[43mrecon_timescale\u001b[49m\u001b[38;5;241;43m=\u001b[39;49m\u001b[43mrecon_timescale\u001b[49m\u001b[43m,\u001b[49m\n\u001b[1;32m    550\u001b[0m \u001b[43m    \u001b[49m\u001b[43mrecon_sampling_mode\u001b[49m\u001b[38;5;241;43m=\u001b[39;49m\u001b[43mrecon_sampling_mode\u001b[49m\u001b[43m,\u001b[49m\n\u001b[1;32m    551\u001b[0m \u001b[43m    \u001b[49m\u001b[43mrecon_sampling_dist\u001b[49m\u001b[38;5;241;43m=\u001b[39;49m\u001b[43mrecon_sampling_dist\u001b[49m\u001b[43m,\u001b[49m\n\u001b[1;32m    552\u001b[0m \u001b[43m    \u001b[49m\u001b[43mtrim_prior\u001b[49m\u001b[38;5;241;43m=\u001b[39;49m\u001b[43mtrim_prior\u001b[49m\u001b[43m,\u001b[49m\n\u001b[1;32m    553\u001b[0m \u001b[43m    \u001b[49m\u001b[43mnormal_sampling_sigma\u001b[49m\u001b[38;5;241;43m=\u001b[39;49m\u001b[43mnormal_sampling_sigma\u001b[49m\u001b[43m,\u001b[49m\n\u001b[1;32m    554\u001b[0m \u001b[43m    \u001b[49m\u001b[43mnormal_sampling_cutoff_factor\u001b[49m\u001b[38;5;241;43m=\u001b[39;49m\u001b[43mnormal_sampling_cutoff_factor\u001b[49m\u001b[43m,\u001b[49m\n\u001b[1;32m    555\u001b[0m \u001b[43m    \u001b[49m\u001b[43mverbose\u001b[49m\u001b[38;5;241;43m=\u001b[39;49m\u001b[43mverbose\u001b[49m\u001b[43m,\u001b[49m\u001b[43m \u001b[49m\u001b[43mdebug\u001b[49m\u001b[38;5;241;43m=\u001b[39;49m\u001b[43mdebug\u001b[49m\u001b[43m,\u001b[49m\u001b[43m \u001b[49m\u001b[43mallownan\u001b[49m\u001b[38;5;241;43m=\u001b[39;49m\u001b[43mallownan\u001b[49m\u001b[43m)\u001b[49m\n\u001b[1;32m    557\u001b[0m \u001b[38;5;28mself\u001b[39m\u001b[38;5;241m.\u001b[39mrecon_fields \u001b[38;5;241m=\u001b[39m \u001b[38;5;28mself\u001b[39m\u001b[38;5;241m.\u001b[39mda_solver\u001b[38;5;241m.\u001b[39mrecon_fields\n\u001b[1;32m    558\u001b[0m \u001b[38;5;28;01mif\u001b[39;00m verbose: p_success(\u001b[38;5;124mf\u001b[39m\u001b[38;5;124m'\u001b[39m\u001b[38;5;124m>>> job.recon_fields created\u001b[39m\u001b[38;5;124m'\u001b[39m)\n",
      "File \u001b[0;32m~/Github/cfr/cfr/da/enkf.py:220\u001b[0m, in \u001b[0;36mEnKF.run\u001b[0;34m(self, recon_yrs, recon_loc_rad, recon_timescale, recon_sampling_mode, recon_sampling_dist, normal_sampling_sigma, normal_sampling_cutoff_factor, trim_prior, verbose, debug, allownan)\u001b[0m\n\u001b[1;32m    218\u001b[0m     \u001b[38;5;28mself\u001b[39m\u001b[38;5;241m.\u001b[39mgen_Xb()\n\u001b[1;32m    219\u001b[0m     \u001b[38;5;28;01mfor\u001b[39;00m yr_idx, target_yr \u001b[38;5;129;01min\u001b[39;00m \u001b[38;5;28menumerate\u001b[39m(tqdm(recon_yrs, desc\u001b[38;5;241m=\u001b[39m\u001b[38;5;124m'\u001b[39m\u001b[38;5;124mKF updating\u001b[39m\u001b[38;5;124m'\u001b[39m)):\n\u001b[0;32m--> 220\u001b[0m         \u001b[38;5;28mself\u001b[39m\u001b[38;5;241m.\u001b[39mXa[yr_idx] \u001b[38;5;241m=\u001b[39m \u001b[38;5;28;43mself\u001b[39;49m\u001b[38;5;241;43m.\u001b[39;49m\u001b[43mupdate_yr\u001b[49m\u001b[43m(\u001b[49m\u001b[43mtarget_yr\u001b[49m\u001b[43m,\u001b[49m\u001b[43m \u001b[49m\u001b[43mrecon_loc_rad\u001b[49m\u001b[43m,\u001b[49m\u001b[43m \u001b[49m\u001b[43mrecon_timescale\u001b[49m\u001b[43m,\u001b[49m\u001b[43m \u001b[49m\u001b[43mdebug\u001b[49m\u001b[38;5;241;43m=\u001b[39;49m\u001b[43mdebug\u001b[49m\u001b[43m,\u001b[49m\u001b[43m \u001b[49m\u001b[43mverbose\u001b[49m\u001b[38;5;241;43m=\u001b[39;49m\u001b[43mverbose\u001b[49m\u001b[43m,\u001b[49m\u001b[43m \u001b[49m\u001b[43mallownan\u001b[49m\u001b[38;5;241;43m=\u001b[39;49m\u001b[43mallownan\u001b[49m\u001b[43m)\u001b[49m\n\u001b[1;32m    222\u001b[0m \u001b[38;5;28;01melif\u001b[39;00m recon_sampling_mode \u001b[38;5;241m==\u001b[39m \u001b[38;5;124m'\u001b[39m\u001b[38;5;124mrolling\u001b[39m\u001b[38;5;124m'\u001b[39m:\n\u001b[1;32m    223\u001b[0m     \u001b[38;5;28;01mif\u001b[39;00m verbose: p_header(\u001b[38;5;124mf\u001b[39m\u001b[38;5;124m'\u001b[39m\u001b[38;5;124m>>> Rolling prior sampling with normal distribution ...\u001b[39m\u001b[38;5;124m'\u001b[39m)\n",
      "File \u001b[0;32m~/Github/cfr/cfr/da/enkf.py:188\u001b[0m, in \u001b[0;36mEnKF.update_yr\u001b[0;34m(self, target_yr, recon_loc_rad, recon_timescale, debug, verbose, allownan)\u001b[0m\n\u001b[1;32m    186\u001b[0m \u001b[38;5;28;01mif\u001b[39;00m \u001b[38;5;129;01mnot\u001b[39;00m allownan:\n\u001b[1;32m    187\u001b[0m     Xbvar \u001b[38;5;241m=\u001b[39m Xb\u001b[38;5;241m.\u001b[39mvar(axis\u001b[38;5;241m=\u001b[39m\u001b[38;5;241m1\u001b[39m, ddof\u001b[38;5;241m=\u001b[39m\u001b[38;5;241m1\u001b[39m)\n\u001b[0;32m--> 188\u001b[0m     Xavar \u001b[38;5;241m=\u001b[39m \u001b[43mXa\u001b[49m\u001b[38;5;241;43m.\u001b[39;49m\u001b[43mvar\u001b[49m\u001b[43m(\u001b[49m\u001b[43maxis\u001b[49m\u001b[38;5;241;43m=\u001b[39;49m\u001b[38;5;241;43m1\u001b[39;49m\u001b[43m,\u001b[49m\u001b[43m \u001b[49m\u001b[43mddof\u001b[49m\u001b[38;5;241;43m=\u001b[39;49m\u001b[38;5;241;43m1\u001b[39;49m\u001b[43m)\u001b[49m\n\u001b[1;32m    189\u001b[0m     vardiff \u001b[38;5;241m=\u001b[39m Xavar \u001b[38;5;241m-\u001b[39m Xbvar\n\u001b[1;32m    190\u001b[0m     \u001b[38;5;28;01mif\u001b[39;00m (\u001b[38;5;129;01mnot\u001b[39;00m np\u001b[38;5;241m.\u001b[39misfinite(np\u001b[38;5;241m.\u001b[39mmin(vardiff))) \u001b[38;5;129;01mor\u001b[39;00m (\u001b[38;5;129;01mnot\u001b[39;00m np\u001b[38;5;241m.\u001b[39misfinite(np\u001b[38;5;241m.\u001b[39mmax(vardiff))):\n",
      "File \u001b[0;32m/glade/work/fengzhu/conda-envs/cfr-env/lib/python3.11/site-packages/numpy/core/_methods.py:173\u001b[0m, in \u001b[0;36m_var\u001b[0;34m(a, axis, dtype, out, ddof, keepdims, where)\u001b[0m\n\u001b[1;32m    168\u001b[0m     arrmean \u001b[38;5;241m=\u001b[39m arrmean \u001b[38;5;241m/\u001b[39m rcount\n\u001b[1;32m    170\u001b[0m \u001b[38;5;66;03m# Compute sum of squared deviations from mean\u001b[39;00m\n\u001b[1;32m    171\u001b[0m \u001b[38;5;66;03m# Note that x may not be inexact and that we need it to be an array,\u001b[39;00m\n\u001b[1;32m    172\u001b[0m \u001b[38;5;66;03m# not a scalar.\u001b[39;00m\n\u001b[0;32m--> 173\u001b[0m x \u001b[38;5;241m=\u001b[39m asanyarray(arr \u001b[38;5;241m-\u001b[39m arrmean)\n\u001b[1;32m    175\u001b[0m \u001b[38;5;28;01mif\u001b[39;00m \u001b[38;5;28missubclass\u001b[39m(arr\u001b[38;5;241m.\u001b[39mdtype\u001b[38;5;241m.\u001b[39mtype, (nt\u001b[38;5;241m.\u001b[39mfloating, nt\u001b[38;5;241m.\u001b[39minteger)):\n\u001b[1;32m    176\u001b[0m     x \u001b[38;5;241m=\u001b[39m um\u001b[38;5;241m.\u001b[39mmultiply(x, x, out\u001b[38;5;241m=\u001b[39mx)\n",
      "\u001b[0;31mKeyboardInterrupt\u001b[0m: "
     ]
    }
   ],
   "source": [
    "job = cfr.ReconJob()\n",
    "job.run_da_cfg('./data/configs_test.yml', verbose=True)"
   ]
  },
  {
   "cell_type": "code",
   "execution_count": null,
   "metadata": {},
   "outputs": [],
   "source": []
  }
 ],
 "metadata": {
  "kernelspec": {
   "display_name": "Python [conda env:cfr-env]",
   "language": "python",
   "name": "conda-env-cfr-env-py"
  },
  "language_info": {
   "codemirror_mode": {
    "name": "ipython",
    "version": 3
   },
   "file_extension": ".py",
   "mimetype": "text/x-python",
   "name": "python",
   "nbconvert_exporter": "python",
   "pygments_lexer": "ipython3",
   "version": "3.11.7"
  }
 },
 "nbformat": 4,
 "nbformat_minor": 2
}
